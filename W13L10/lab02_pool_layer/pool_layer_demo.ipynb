{
 "cells": [
  {
   "cell_type": "markdown",
   "metadata": {},
   "source": [
    "# Lab 02 : Pooling layer - demo"
   ]
  },
  {
   "cell_type": "code",
   "execution_count": 1,
   "metadata": {},
   "outputs": [],
   "source": [
    "import torch\n",
    "import torch.nn as nn"
   ]
  },
  {
   "cell_type": "markdown",
   "metadata": {},
   "source": [
    "### Make a pooling module\n",
    "* inputs:  activation maps of size n x n\n",
    "* output:  activation maps of size n/p x n/p\n",
    "* p: pooling size"
   ]
  },
  {
   "cell_type": "code",
   "execution_count": 2,
   "metadata": {},
   "outputs": [],
   "source": [
    "mod = nn.MaxPool2d(2,2)"
   ]
  },
  {
   "cell_type": "markdown",
   "metadata": {},
   "source": [
    "### Make an input 2 x 6 x 6  (two channels, each one has 6 x 6 pixels )"
   ]
  },
  {
   "cell_type": "code",
   "execution_count": 8,
   "metadata": {},
   "outputs": [
    {
     "name": "stdout",
     "output_type": "stream",
     "text": [
      "tensor([[[[0.6796, 0.0749, 0.5749, 0.5729, 0.3750, 0.9115],\n",
      "          [0.0087, 0.2287, 0.1944, 0.5500, 0.9770, 0.0556],\n",
      "          [0.2348, 0.4120, 0.8975, 0.8404, 0.1589, 0.7432],\n",
      "          [0.7057, 0.1542, 0.8852, 0.1988, 0.2206, 0.2997],\n",
      "          [0.6186, 0.6267, 0.1895, 0.5063, 0.0490, 0.9198],\n",
      "          [0.1485, 0.1590, 0.0135, 0.9169, 0.1770, 0.9111]],\n",
      "\n",
      "         [[0.9578, 0.7230, 0.8536, 0.0845, 0.8924, 0.4143],\n",
      "          [0.8960, 0.1241, 0.8723, 0.3279, 0.6405, 0.8009],\n",
      "          [0.4433, 0.3989, 0.8508, 0.8352, 0.5912, 0.4906],\n",
      "          [0.7956, 0.3493, 0.9055, 0.5975, 0.6417, 0.7784],\n",
      "          [0.8065, 0.9513, 0.0501, 0.2112, 0.8114, 0.8546],\n",
      "          [0.3578, 0.3014, 0.4694, 0.0160, 0.3717, 0.1823]]]])\n",
      "torch.Size([1, 2, 6, 6])\n"
     ]
    }
   ],
   "source": [
    "bs=1\n",
    "\n",
    "x=torch.rand(bs,2,6,6)\n",
    "\n",
    "\n",
    "print(x)\n",
    "print(x.size())"
   ]
  },
  {
   "cell_type": "markdown",
   "metadata": {},
   "source": [
    "### Feed it to the pooling layer: the output size should be divided by 2 "
   ]
  },
  {
   "cell_type": "code",
   "execution_count": 9,
   "metadata": {},
   "outputs": [
    {
     "name": "stdout",
     "output_type": "stream",
     "text": [
      "tensor([[[[0.6796, 0.5749, 0.9770],\n",
      "          [0.7057, 0.8975, 0.7432],\n",
      "          [0.6267, 0.9169, 0.9198]],\n",
      "\n",
      "         [[0.9578, 0.8723, 0.8924],\n",
      "          [0.7956, 0.9055, 0.7784],\n",
      "          [0.9513, 0.4694, 0.8546]]]])\n",
      "torch.Size([1, 2, 3, 3])\n"
     ]
    }
   ],
   "source": [
    "y=mod(x)\n",
    "\n",
    "print(y)\n",
    "print(y.size())"
   ]
  },
  {
   "cell_type": "code",
   "execution_count": null,
   "metadata": {},
   "outputs": [],
   "source": []
  },
  {
   "cell_type": "code",
   "execution_count": null,
   "metadata": {},
   "outputs": [],
   "source": []
  }
 ],
 "metadata": {
  "kernelspec": {
   "display_name": "Python 3",
   "language": "python",
   "name": "python3"
  },
  "language_info": {
   "codemirror_mode": {
    "name": "ipython",
    "version": 3
   },
   "file_extension": ".py",
   "mimetype": "text/x-python",
   "name": "python",
   "nbconvert_exporter": "python",
   "pygments_lexer": "ipython3",
   "version": "3.6.10"
  }
 },
 "nbformat": 4,
 "nbformat_minor": 2
}
