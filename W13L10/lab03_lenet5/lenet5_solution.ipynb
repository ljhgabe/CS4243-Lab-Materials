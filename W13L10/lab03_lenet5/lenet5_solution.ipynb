{
 "cells": [
  {
   "cell_type": "markdown",
   "metadata": {},
   "source": [
    "# Lab 03 : LeNet5 architecture - solution"
   ]
  },
  {
   "cell_type": "code",
   "execution_count": null,
   "metadata": {},
   "outputs": [],
   "source": [
    "# For Google Colaboratory\n",
    "import sys, os\n",
    "if 'google.colab' in sys.modules:\n",
    "    # mount google drive\n",
    "    from google.colab import drive\n",
    "    drive.mount('/content/gdrive')\n",
    "    path_to_file = '/content/gdrive/My Drive/CS4243_codes/codes/labs_lecture08/lab03_lenet5'\n",
    "    print(path_to_file)\n",
    "    # move to Google Drive directory\n",
    "    os.chdir(path_to_file)\n",
    "    !pwd"
   ]
  },
  {
   "cell_type": "code",
   "execution_count": 1,
   "metadata": {},
   "outputs": [],
   "source": [
    "import torch\n",
    "import torch.nn as nn\n",
    "import torch.optim as optim\n",
    "from random import randint\n",
    "import utils\n",
    "import time"
   ]
  },
  {
   "cell_type": "markdown",
   "metadata": {},
   "source": [
    "### With or without GPU?\n",
    "\n",
    "It is recommended to run this code on GPU:<br> \n",
    "* Time for 1 epoch on CPU : 96 sec (1.62 min)<br> \n",
    "* Time for 1 epoch on GPU : 2 sec w/ GeForce GTX 1080 Ti <br>"
   ]
  },
  {
   "cell_type": "code",
   "execution_count": 2,
   "metadata": {},
   "outputs": [
    {
     "name": "stdout",
     "output_type": "stream",
     "text": [
      "cuda\n"
     ]
    }
   ],
   "source": [
    "device= torch.device(\"cuda\")\n",
    "#device= torch.device(\"cpu\")\n",
    "print(device)"
   ]
  },
  {
   "cell_type": "markdown",
   "metadata": {},
   "source": [
    "### Download the MNIST dataset "
   ]
  },
  {
   "cell_type": "code",
   "execution_count": 3,
   "metadata": {},
   "outputs": [
    {
     "name": "stdout",
     "output_type": "stream",
     "text": [
      "torch.Size([60000, 28, 28])\n",
      "torch.Size([10000, 28, 28])\n"
     ]
    }
   ],
   "source": [
    "from utils import check_mnist_dataset_exists\n",
    "data_path=check_mnist_dataset_exists()\n",
    "\n",
    "train_data=torch.load(data_path+'mnist/train_data.pt')\n",
    "train_label=torch.load(data_path+'mnist/train_label.pt')\n",
    "test_data=torch.load(data_path+'mnist/test_data.pt')\n",
    "test_label=torch.load(data_path+'mnist/test_label.pt')\n",
    "\n",
    "print(train_data.size())\n",
    "print(test_data.size())"
   ]
  },
  {
   "cell_type": "markdown",
   "metadata": {},
   "source": [
    "### Compute average pixel intensity over all training set and all channels"
   ]
  },
  {
   "cell_type": "code",
   "execution_count": 4,
   "metadata": {},
   "outputs": [
    {
     "name": "stdout",
     "output_type": "stream",
     "text": [
      "tensor(0.1307)\n"
     ]
    }
   ],
   "source": [
    "mean= train_data.mean()\n",
    "\n",
    "print(mean)"
   ]
  },
  {
   "cell_type": "markdown",
   "metadata": {},
   "source": [
    "### Compute standard deviation"
   ]
  },
  {
   "cell_type": "code",
   "execution_count": 5,
   "metadata": {},
   "outputs": [
    {
     "name": "stdout",
     "output_type": "stream",
     "text": [
      "tensor(0.3081)\n"
     ]
    }
   ],
   "source": [
    "std= train_data.std()\n",
    "\n",
    "print(std)"
   ]
  },
  {
   "cell_type": "markdown",
   "metadata": {},
   "source": [
    "### Make a LeNet5 convnet class. "
   ]
  },
  {
   "cell_type": "code",
   "execution_count": 6,
   "metadata": {},
   "outputs": [],
   "source": [
    "class LeNet5_convnet(nn.Module):\n",
    "\n",
    "    def __init__(self):\n",
    "\n",
    "        super(LeNet5_convnet, self).__init__()\n",
    "\n",
    "        # CL1:   28 x 28  -->    50 x 28 x 28 \n",
    "        self.conv1 = nn.Conv2d(1,   50,  kernel_size=3,  padding=1 )\n",
    "        \n",
    "        # MP1: 50 x 28 x 28 -->    50 x 14 x 14\n",
    "        self.pool1  = nn.MaxPool2d(2,2)\n",
    "        \n",
    "        # CL2:   50 x 14 x 14  -->    100 x 14 x 14 \n",
    "        self.conv2 = nn.Conv2d(50,  100,  kernel_size=3,  padding=1 )\n",
    "        \n",
    "        # MP2: 100 x 14 x 14 -->    100 x 7 x 7\n",
    "        self.pool2 = nn.MaxPool2d(2,2)\n",
    "        \n",
    "        # LL1:   100 x 7 x 7 = 4900 -->  100 \n",
    "        self.linear1 = nn.Linear(4900, 100)\n",
    "        \n",
    "        # LL2:   100  -->  10 \n",
    "        self.linear2 = nn.Linear(100,10)\n",
    "\n",
    "\n",
    "    def forward(self, x):\n",
    "\n",
    "        # CL1:   28 x 28  -->    50 x 28 x 28 \n",
    "        x = self.conv1(x)\n",
    "        x = torch.relu(x)\n",
    "        \n",
    "        # MP1: 50 x 28 x 28 -->    50 x 14 x 14\n",
    "        x = self.pool1(x)\n",
    "        \n",
    "        # CL2:   50 x 14 x 14  -->    100 x 14 x 14\n",
    "        x = self.conv2(x)\n",
    "        x = torch.relu(x)\n",
    "        \n",
    "        # MP2: 100 x 14 x 14 -->    100 x 7 x 7\n",
    "        x = self.pool2(x)\n",
    "\n",
    "        # LL1:   100 x 7 x 7 = 4900  -->  100 \n",
    "        x = x.view(-1, 4900)\n",
    "        x = self.linear1(x)\n",
    "        x = torch.relu(x)\n",
    "        \n",
    "        # LL2:   4900  -->  10 \n",
    "        x = self.linear2(x)\n",
    "    \n",
    "        return x"
   ]
  },
  {
   "cell_type": "markdown",
   "metadata": {},
   "source": [
    "### Build the net. How many parameters in total?"
   ]
  },
  {
   "cell_type": "code",
   "execution_count": 25,
   "metadata": {},
   "outputs": [
    {
     "name": "stdout",
     "output_type": "stream",
     "text": [
      "LeNet5_convnet(\n",
      "  (conv1): Conv2d(1, 50, kernel_size=(3, 3), stride=(1, 1), padding=(1, 1))\n",
      "  (pool1): MaxPool2d(kernel_size=2, stride=2, padding=0, dilation=1, ceil_mode=False)\n",
      "  (conv2): Conv2d(50, 100, kernel_size=(3, 3), stride=(1, 1), padding=(1, 1))\n",
      "  (pool2): MaxPool2d(kernel_size=2, stride=2, padding=0, dilation=1, ceil_mode=False)\n",
      "  (linear1): Linear(in_features=4900, out_features=100, bias=True)\n",
      "  (linear2): Linear(in_features=100, out_features=10, bias=True)\n",
      ")\n",
      "There are 536710 (0.54 million) parameters in this neural network\n"
     ]
    }
   ],
   "source": [
    "net=LeNet5_convnet()\n",
    "print(net)\n",
    "utils.display_num_param(net)"
   ]
  },
  {
   "cell_type": "markdown",
   "metadata": {},
   "source": [
    "### Send the weights of the networks to the GPU (as well as the mean and std)"
   ]
  },
  {
   "cell_type": "code",
   "execution_count": 26,
   "metadata": {},
   "outputs": [],
   "source": [
    "net = net.to(device)\n",
    "\n",
    "mean=mean.to(device)\n",
    "\n",
    "std=std.to(device)"
   ]
  },
  {
   "cell_type": "markdown",
   "metadata": {},
   "source": [
    "### Choose the criterion, learning rate, and batch size."
   ]
  },
  {
   "cell_type": "code",
   "execution_count": 27,
   "metadata": {},
   "outputs": [],
   "source": [
    "criterion = nn.CrossEntropyLoss()\n",
    "\n",
    "my_lr=0.25 \n",
    "\n",
    "bs= 128"
   ]
  },
  {
   "cell_type": "markdown",
   "metadata": {},
   "source": [
    "### Function to evaluate the network on the test set"
   ]
  },
  {
   "cell_type": "code",
   "execution_count": 28,
   "metadata": {},
   "outputs": [],
   "source": [
    "def eval_on_test_set():\n",
    "\n",
    "    running_error=0\n",
    "    num_batches=0\n",
    "\n",
    "    for i in range(0,10000,bs):\n",
    "\n",
    "        minibatch_data =  test_data[i:i+bs].unsqueeze(dim=1)\n",
    "        minibatch_label= test_label[i:i+bs]\n",
    "\n",
    "        minibatch_data=minibatch_data.to(device)\n",
    "        minibatch_label=minibatch_label.to(device)\n",
    "        \n",
    "        inputs = (minibatch_data - mean)/std    # ONLY CHANGE IS HERE!\n",
    "\n",
    "        scores=net( inputs ) \n",
    "\n",
    "        error = utils.get_error( scores , minibatch_label)\n",
    "\n",
    "        running_error += error.item()\n",
    "\n",
    "        num_batches+=1\n",
    "\n",
    "\n",
    "    total_error = running_error/num_batches\n",
    "    print( 'error rate on test set =', total_error*100 ,'percent')"
   ]
  },
  {
   "cell_type": "markdown",
   "metadata": {},
   "source": [
    "### Do 30 passes through the training set. Divide the learning rate by 2 every 5 epochs."
   ]
  },
  {
   "cell_type": "code",
   "execution_count": 29,
   "metadata": {
    "scrolled": false
   },
   "outputs": [
    {
     "name": "stdout",
     "output_type": "stream",
     "text": [
      "epoch= 1 \t time= 0.035965096950531 min \t lr= 0.25 \t loss= 0.25184304937561436 \t error= 8.281138939643974 percent\n",
      "error rate on test set = 1.720727848101266 percent\n",
      " \n",
      "epoch= 2 \t time= 0.07331464687983195 min \t lr= 0.25 \t loss= 0.04753592156215326 \t error= 1.5175239872068231 percent\n",
      "error rate on test set = 1.2163765822784811 percent\n",
      " \n",
      "epoch= 3 \t time= 0.11227930784225464 min \t lr= 0.25 \t loss= 0.03212023202353703 \t error= 0.9600435238657221 percent\n",
      "error rate on test set = 1.2954905063291138 percent\n",
      " \n",
      "epoch= 4 \t time= 0.14929946660995483 min \t lr= 0.25 \t loss= 0.023746630387392633 \t error= 0.7168398991322467 percent\n",
      "error rate on test set = 1.0284810126582278 percent\n",
      " \n",
      "epoch= 5 \t time= 0.1872205177942912 min \t lr= 0.16666666666666666 \t loss= 0.013608026010458912 \t error= 0.40367358783160695 percent\n",
      "error rate on test set = 0.8801424050632911 percent\n",
      " \n",
      "epoch= 6 \t time= 0.22588123877843222 min \t lr= 0.16666666666666666 \t loss= 0.010225599255737489 \t error= 0.2765191897654584 percent\n",
      "error rate on test set = 0.7318037974683544 percent\n",
      " \n",
      "epoch= 7 \t time= 0.264663298924764 min \t lr= 0.16666666666666666 \t loss= 0.008101372387327714 \t error= 0.20822228144989338 percent\n",
      "error rate on test set = 0.78125 percent\n",
      " \n",
      "epoch= 8 \t time= 0.30322047472000124 min \t lr= 0.16666666666666666 \t loss= 0.006466023878120918 \t error= 0.17157515991471217 percent\n",
      "error rate on test set = 0.9196993670886077 percent\n",
      " \n",
      "epoch= 9 \t time= 0.3426842411359151 min \t lr= 0.16666666666666666 \t loss= 0.005489674398798678 \t error= 0.1515858208955224 percent\n",
      "error rate on test set = 0.7911392405063291 percent\n",
      " \n",
      "epoch= 10 \t time= 0.38130601644515993 min \t lr= 0.1111111111111111 \t loss= 0.003320675196328651 \t error= 0.06663113006396588 percent\n",
      "error rate on test set = 0.8010284810126581 percent\n",
      " \n",
      "epoch= 11 \t time= 0.41975213289260865 min \t lr= 0.1111111111111111 \t loss= 0.0025588183358226267 \t error= 0.053304904051172705 percent\n",
      "error rate on test set = 0.78125 percent\n",
      " \n",
      "epoch= 12 \t time= 0.4582510948181152 min \t lr= 0.1111111111111111 \t loss= 0.0022160232215792117 \t error= 0.041644456289978676 percent\n",
      "error rate on test set = 0.8109177215189873 percent\n",
      " \n",
      "epoch= 13 \t time= 0.4969542940457662 min \t lr= 0.1111111111111111 \t loss= 0.0017863969265946003 \t error= 0.0283182302771855 percent\n",
      "error rate on test set = 0.8306962025316454 percent\n",
      " \n",
      "epoch= 14 \t time= 0.5346886396408081 min \t lr= 0.1111111111111111 \t loss= 0.0014533917204901847 \t error= 0.019989339019189766 percent\n",
      "error rate on test set = 0.8010284810126581 percent\n",
      " \n",
      "epoch= 15 \t time= 0.5719365914662679 min \t lr= 0.07407407407407407 \t loss= 0.0010907502173741997 \t error= 0.011660447761194029 percent\n",
      "error rate on test set = 0.8010284810126581 percent\n",
      " \n",
      "epoch= 16 \t time= 0.6107837239901225 min \t lr= 0.07407407407407407 \t loss= 0.0009732640241391893 \t error= 0.009994669509594883 percent\n",
      "error rate on test set = 0.8010284810126581 percent\n",
      " \n",
      "epoch= 17 \t time= 0.6486724098523458 min \t lr= 0.07407407407407407 \t loss= 0.0008698516520487863 \t error= 0.009994669509594883 percent\n",
      "error rate on test set = 0.78125 percent\n",
      " \n",
      "epoch= 18 \t time= 0.6856568574905395 min \t lr= 0.07407407407407407 \t loss= 0.0007862976084291778 \t error= 0.003331556503198294 percent\n",
      "error rate on test set = 0.8109177215189873 percent\n",
      " \n",
      "epoch= 19 \t time= 0.7226877212524414 min \t lr= 0.07407407407407407 \t loss= 0.000686679279053413 \t error= 0.001665778251599147 percent\n",
      "error rate on test set = 0.8010284810126581 percent\n",
      " \n",
      "epoch= 20 \t time= 0.7597424427668253 min \t lr= 0.04938271604938271 \t loss= 0.0006031487042755524 \t error= 0.001665778251599147 percent\n",
      "error rate on test set = 0.8109177215189873 percent\n",
      " \n",
      "epoch= 21 \t time= 0.7982831239700318 min \t lr= 0.04938271604938271 \t loss= 0.0005703296567966689 \t error= 0.001665778251599147 percent\n",
      "error rate on test set = 0.8010284810126581 percent\n",
      " \n",
      "epoch= 22 \t time= 0.8354057470957438 min \t lr= 0.04938271604938271 \t loss= 0.0005362835164908677 \t error= 0.001665778251599147 percent\n",
      "error rate on test set = 0.8010284810126581 percent\n",
      " \n",
      "epoch= 23 \t time= 0.872829258441925 min \t lr= 0.04938271604938271 \t loss= 0.0004967803421960488 \t error= 0.003331556503198294 percent\n",
      "error rate on test set = 0.8208069620253164 percent\n",
      " \n",
      "epoch= 24 \t time= 0.910100261370341 min \t lr= 0.04938271604938271 \t loss= 0.0004695585684608549 \t error= 0.001665778251599147 percent\n",
      "error rate on test set = 0.7713607594936709 percent\n",
      " \n",
      "epoch= 25 \t time= 0.9471335728963216 min \t lr= 0.03292181069958847 \t loss= 0.00043989213576703184 \t error= 0.001665778251599147 percent\n",
      "error rate on test set = 0.7911392405063291 percent\n",
      " \n",
      "epoch= 26 \t time= 0.9847737510999044 min \t lr= 0.03292181069958847 \t loss= 0.0004204956294376967 \t error= 0.001665778251599147 percent\n",
      "error rate on test set = 0.8208069620253164 percent\n",
      " \n",
      "epoch= 27 \t time= 1.0241708755493164 min \t lr= 0.03292181069958847 \t loss= 0.0004094080931977677 \t error= 0.001665778251599147 percent\n",
      "error rate on test set = 0.7911392405063291 percent\n",
      " \n",
      "epoch= 28 \t time= 1.0623416662216187 min \t lr= 0.03292181069958847 \t loss= 0.0003978203222126281 \t error= 0.001665778251599147 percent\n",
      "error rate on test set = 0.78125 percent\n",
      " \n",
      "epoch= 29 \t time= 1.1012925426165263 min \t lr= 0.03292181069958847 \t loss= 0.0003849594313132543 \t error= 0.0 percent\n",
      "error rate on test set = 0.78125 percent\n",
      " \n"
     ]
    }
   ],
   "source": [
    "start=time.time()\n",
    "\n",
    "for epoch in range(1,30):\n",
    "    \n",
    "    if not epoch%5:\n",
    "        my_lr = my_lr / 1.5\n",
    "        \n",
    "    optimizer=torch.optim.SGD( net.parameters() , lr=my_lr )\n",
    "        \n",
    "    running_loss=0\n",
    "    running_error=0\n",
    "    num_batches=0\n",
    "    \n",
    "    shuffled_indices=torch.randperm(60000)\n",
    " \n",
    "    for count in range(0,60000,bs):\n",
    "        \n",
    "        # FORWARD AND BACKWARD PASS\n",
    "    \n",
    "        optimizer.zero_grad()\n",
    "             \n",
    "        indices=shuffled_indices[count:count+bs]\n",
    "        minibatch_data =  train_data[indices].unsqueeze(dim=1)\n",
    "        minibatch_label=  train_label[indices]\n",
    "        \n",
    "        minibatch_data=minibatch_data.to(device)\n",
    "        minibatch_label=minibatch_label.to(device)\n",
    "        \n",
    "        inputs = (minibatch_data - mean)/std      # ONLY CHANGE IS HERE!\n",
    "        \n",
    "        inputs.requires_grad_()\n",
    "\n",
    "        scores=net( inputs ) \n",
    "\n",
    "        loss =  criterion( scores , minibatch_label) \n",
    "          \n",
    "        loss.backward()\n",
    "        \n",
    "        optimizer.step()\n",
    "        \n",
    "\n",
    "        # COMPUTE STATS\n",
    "        \n",
    "        running_loss += loss.detach().item()\n",
    "        \n",
    "        error = utils.get_error( scores.detach() , minibatch_label)\n",
    "        running_error += error.item()\n",
    "        \n",
    "        num_batches+=1        \n",
    "    \n",
    "    \n",
    "    # AVERAGE STATS THEN DISPLAY\n",
    "    total_loss = running_loss/num_batches\n",
    "    total_error = running_error/num_batches\n",
    "    elapsed = (time.time()-start)/60\n",
    "    \n",
    "    print('epoch=',epoch, '\\t time=', elapsed,'min', '\\t lr=', my_lr  ,'\\t loss=', total_loss , '\\t error=', total_error*100 ,'percent')\n",
    "    eval_on_test_set() \n",
    "    print(' ')\n",
    "    \n",
    "    "
   ]
  },
  {
   "cell_type": "markdown",
   "metadata": {},
   "source": [
    "### Choose image at random from the test set and see how good/bad are the predictions"
   ]
  },
  {
   "cell_type": "code",
   "execution_count": 12,
   "metadata": {},
   "outputs": [
    {
     "data": {
      "image/png": "[encoded data removed]",
      "text/plain": [
       "<Figure size 432x288 with 1 Axes>"
      ]
     },
     "metadata": {
      "needs_background": "light"
     },
     "output_type": "display_data"
    },
    {
     "data": {
      "image/png": "[encoded data removed]",
      "text/plain": [
       "<Figure size 640x480 with 1 Axes>"
      ]
     },
     "metadata": {},
     "output_type": "display_data"
    }
   ],
   "source": [
    "# choose a picture at random\n",
    "idx=randint(0, 10000-1)\n",
    "im=test_data[idx]\n",
    "\n",
    "# diplay the picture\n",
    "utils.show(im)\n",
    "\n",
    "# send to device, rescale, and view as a batch of 1 \n",
    "im = im.to(device)\n",
    "im= (im-mean) / std\n",
    "im=im.view(1,28,28).unsqueeze(dim=1)\n",
    "\n",
    "# feed it to the net and display the confidence scores\n",
    "scores =  net(im) \n",
    "probs= torch.softmax(scores, dim=1)\n",
    "utils.show_prob_mnist(probs.cpu())"
   ]
  },
  {
   "cell_type": "code",
   "execution_count": null,
   "metadata": {},
   "outputs": [],
   "source": []
  }
 ],
 "metadata": {
  "kernelspec": {
   "display_name": "Python 3 (ipykernel)",
   "language": "python",
   "name": "python3"
  },
  "language_info": {
   "codemirror_mode": {
    "name": "ipython",
    "version": 3
   },
   "file_extension": ".py",
   "mimetype": "text/x-python",
   "name": "python",
   "nbconvert_exporter": "python",
   "pygments_lexer": "ipython3",
   "version": "3.7.10"
  }
 },
 "nbformat": 4,
 "nbformat_minor": 2
}
