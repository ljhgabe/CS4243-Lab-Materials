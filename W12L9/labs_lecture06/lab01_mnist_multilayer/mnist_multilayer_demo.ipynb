{
 "cells": [
  {
   "cell_type": "markdown",
   "metadata": {},
   "source": [
    "# Lab 01 : MNIST multi-layer -- demo"
   ]
  },
  {
   "cell_type": "code",
   "execution_count": null,
   "metadata": {},
   "outputs": [],
   "source": [
    "# For Google Colaboratory\n",
    "import sys, os\n",
    "if 'google.colab' in sys.modules:\n",
    "    # mount google drive\n",
    "    from google.colab import drive\n",
    "    drive.mount('/content/gdrive')\n",
    "    path_to_file = '/content/gdrive/My Drive/CS4243_codes/codes/labs_lecture06/lab01_mnist_multilayer'\n",
    "    print(path_to_file)\n",
    "    # move to Google Drive directory\n",
    "    os.chdir(path_to_file)\n",
    "    !pwd"
   ]
  },
  {
   "cell_type": "code",
   "execution_count": 1,
   "metadata": {},
   "outputs": [],
   "source": [
    "import torch\n",
    "import torch.nn as nn\n",
    "import torch.optim as optim\n",
    "from random import randint\n",
    "import time\n",
    "import utils"
   ]
  },
  {
   "cell_type": "markdown",
   "metadata": {},
   "source": [
    "### Download the data"
   ]
  },
  {
   "cell_type": "code",
   "execution_count": 2,
   "metadata": {},
   "outputs": [],
   "source": [
    "from utils import check_mnist_dataset_exists\n",
    "data_path=check_mnist_dataset_exists()\n",
    "\n",
    "train_data=torch.load(data_path+'mnist/train_data.pt')\n",
    "train_label=torch.load(data_path+'mnist/train_label.pt')\n",
    "test_data=torch.load(data_path+'mnist/test_data.pt')\n",
    "test_label=torch.load(data_path+'mnist/test_label.pt')"
   ]
  },
  {
   "cell_type": "markdown",
   "metadata": {},
   "source": [
    "### Make a two layer net class. "
   ]
  },
  {
   "cell_type": "code",
   "execution_count": 3,
   "metadata": {},
   "outputs": [],
   "source": [
    "class two_layer_net(nn.Module):\n",
    "\n",
    "    def __init__(self, input_size, hidden_size,  output_size):\n",
    "        super(two_layer_net , self).__init__()\n",
    "        \n",
    "        self.layer1 = nn.Linear(  input_size   , hidden_size  , bias=False  )\n",
    "        self.layer2 = nn.Linear(  hidden_size  , output_size   , bias=False  )\n",
    "        \n",
    "        \n",
    "    def forward(self, x):\n",
    "        \n",
    "        y       = self.layer1(x)\n",
    "        y_hat   = torch.relu(y)\n",
    "        scores  = self.layer2(y_hat)\n",
    "        \n",
    "        return scores"
   ]
  },
  {
   "cell_type": "markdown",
   "metadata": {},
   "source": [
    "### Build the net (recall that a one layer net had 7,840 parameters)"
   ]
  },
  {
   "cell_type": "code",
   "execution_count": 4,
   "metadata": {},
   "outputs": [
    {
     "name": "stdout",
     "output_type": "stream",
     "text": [
      "two_layer_net(\n",
      "  (layer1): Linear(in_features=784, out_features=50, bias=False)\n",
      "  (layer2): Linear(in_features=50, out_features=10, bias=False)\n",
      ")\n",
      "There are 39700 (0.04 million) parameters in this neural network\n"
     ]
    }
   ],
   "source": [
    "net=two_layer_net(784,50,10)\n",
    "\n",
    "print(net)\n",
    "utils.display_num_param(net)"
   ]
  },
  {
   "cell_type": "markdown",
   "metadata": {},
   "source": [
    "### Choose the criterion, optimizer, batchsize, learning rate"
   ]
  },
  {
   "cell_type": "code",
   "execution_count": 5,
   "metadata": {},
   "outputs": [],
   "source": [
    "criterion = nn.CrossEntropyLoss()\n",
    "\n",
    "optimizer=torch.optim.SGD( net.parameters() , lr=0.01 )\n",
    "\n",
    "bs=20"
   ]
  },
  {
   "cell_type": "markdown",
   "metadata": {},
   "source": [
    "### Evaluate on test set"
   ]
  },
  {
   "cell_type": "code",
   "execution_count": 6,
   "metadata": {},
   "outputs": [],
   "source": [
    "def eval_on_test_set():\n",
    "\n",
    "    running_error=0\n",
    "    num_batches=0\n",
    "\n",
    "    for i in range(0,10000,bs):\n",
    "\n",
    "        minibatch_data =  test_data[i:i+bs]\n",
    "        minibatch_label= test_label[i:i+bs]\n",
    "\n",
    "        inputs = minibatch_data.view(bs,784)\n",
    "\n",
    "        scores=net( inputs ) \n",
    "\n",
    "        error = utils.get_error( scores , minibatch_label)\n",
    "\n",
    "        running_error += error.item()\n",
    "\n",
    "        num_batches+=1\n",
    "\n",
    "\n",
    "    total_error = running_error/num_batches\n",
    "    print( 'test error  = ', total_error*100 ,'percent')"
   ]
  },
  {
   "cell_type": "markdown",
   "metadata": {},
   "source": [
    "### Training loop"
   ]
  },
  {
   "cell_type": "code",
   "execution_count": 7,
   "metadata": {
    "scrolled": false
   },
   "outputs": [
    {
     "name": "stdout",
     "output_type": "stream",
     "text": [
      " \n",
      "epoch= 0 \t time= 1.5663700103759766 \t loss= 0.7022713695690036 \t error= 17.078333522876104 percent\n",
      "test error  =  10.120000410079957 percent\n",
      " \n",
      "epoch= 5 \t time= 9.432515144348145 \t loss= 0.22390149033349008 \t error= 6.216667409737905 percent\n",
      "test error  =  6.070000624656678 percent\n",
      " \n",
      "epoch= 10 \t time= 17.865931034088135 \t loss= 0.16048691512302807 \t error= 4.478334061304729 percent\n",
      "test error  =  4.620000553131103 percent\n",
      " \n",
      "epoch= 15 \t time= 26.04132318496704 \t loss= 0.12577241894525165 \t error= 3.4983339846134185 percent\n",
      "test error  =  4.120000541210175 percent\n",
      " \n",
      "epoch= 20 \t time= 34.57222294807434 \t loss= 0.10372214950512473 \t error= 2.8650005559126535 percent\n",
      "test error  =  3.5500005245208746 percent\n",
      " \n",
      "epoch= 25 \t time= 42.853976249694824 \t loss= 0.08861428492399864 \t error= 2.445000505447388 percent\n",
      "test error  =  3.34000049829483 percent\n",
      " \n",
      "epoch= 30 \t time= 51.1626660823822 \t loss= 0.07727210836469506 \t error= 2.1133337954680127 percent\n",
      "test error  =  3.1100004792213443 percent\n",
      " \n",
      "epoch= 35 \t time= 59.50682020187378 \t loss= 0.06810961368241503 \t error= 1.8466670533021292 percent\n",
      "test error  =  2.950000476837158 percent\n",
      " \n",
      "epoch= 40 \t time= 67.80871033668518 \t loss= 0.0607652189276414 \t error= 1.6150003631909686 percent\n",
      "test error  =  2.840000534057617 percent\n",
      " \n",
      "epoch= 45 \t time= 75.95271515846252 \t loss= 0.05471012158967399 \t error= 1.4183336516221363 percent\n",
      "test error  =  2.6700004935264587 percent\n",
      " \n",
      "epoch= 50 \t time= 84.50822305679321 \t loss= 0.0492650508027679 \t error= 1.291666962703069 percent\n",
      "test error  =  2.7400004863739014 percent\n",
      " \n",
      "epoch= 55 \t time= 92.60177731513977 \t loss= 0.04481191637110896 \t error= 1.1783336003621419 percent\n",
      "test error  =  2.6500005006790164 percent\n",
      " \n",
      "epoch= 60 \t time= 100.74547719955444 \t loss= 0.04069292083695958 \t error= 1.0183335681756338 percent\n",
      "test error  =  2.6600004911422728 percent\n",
      " \n",
      "epoch= 65 \t time= 108.91416597366333 \t loss= 0.037306950615190244 \t error= 0.955000215768814 percent\n",
      "test error  =  2.6400004744529726 percent\n",
      " \n",
      "epoch= 70 \t time= 117.83145809173584 \t loss= 0.03413159365787093 \t error= 0.8500001966953278 percent\n",
      "test error  =  2.580000448226929 percent\n",
      " \n",
      "epoch= 75 \t time= 125.88793325424194 \t loss= 0.03133678576974489 \t error= 0.7350001752376556 percent\n",
      "test error  =  2.6300004720687866 percent\n",
      " \n",
      "epoch= 80 \t time= 133.928120136261 \t loss= 0.028744288337872907 \t error= 0.6533334891001383 percent\n",
      "test error  =  2.6300004601478575 percent\n",
      " \n",
      "epoch= 85 \t time= 141.8428602218628 \t loss= 0.026686879797440877 \t error= 0.5900001327196757 percent\n",
      "test error  =  2.600000512599945 percent\n",
      " \n",
      "epoch= 90 \t time= 150.57926726341248 \t loss= 0.02452051787294234 \t error= 0.5116667886575064 percent\n",
      "test error  =  2.640000426769257 percent\n",
      " \n",
      "epoch= 95 \t time= 159.7669701576233 \t loss= 0.022723968036504328 \t error= 0.4450001060962677 percent\n",
      "test error  =  2.6000004529953 percent\n",
      " \n",
      "epoch= 100 \t time= 168.49610018730164 \t loss= 0.021040570099741064 \t error= 0.383333424727122 percent\n",
      "test error  =  2.6500004649162294 percent\n",
      " \n",
      "epoch= 105 \t time= 176.57124209403992 \t loss= 0.019569702788782402 \t error= 0.3533334175745646 percent\n",
      "test error  =  2.610000431537628 percent\n",
      " \n",
      "epoch= 110 \t time= 184.28436613082886 \t loss= 0.018102719000079863 \t error= 0.28500006794929506 percent\n",
      "test error  =  2.6800004482269286 percent\n",
      " \n",
      "epoch= 115 \t time= 192.05950617790222 \t loss= 0.016754557860185742 \t error= 0.2483333925406138 percent\n",
      "test error  =  2.6700004935264587 percent\n",
      " \n",
      "epoch= 120 \t time= 199.96203422546387 \t loss= 0.015789836344304302 \t error= 0.21666671832402548 percent\n",
      "test error  =  2.7300004839897154 percent\n",
      " \n",
      "epoch= 125 \t time= 207.92259097099304 \t loss= 0.01469099848355836 \t error= 0.19500004649162295 percent\n",
      "test error  =  2.7000004649162292 percent\n",
      " \n",
      "epoch= 130 \t time= 216.25446605682373 \t loss= 0.013690949268842815 \t error= 0.17166670759518943 percent\n",
      "test error  =  2.7100004673004148 percent\n",
      " \n",
      "epoch= 135 \t time= 224.5359423160553 \t loss= 0.012824769780432689 \t error= 0.14000003337860106 percent\n",
      "test error  =  2.6500004649162294 percent\n",
      " \n",
      "epoch= 140 \t time= 233.90468096733093 \t loss= 0.012062887692491737 \t error= 0.1250000298023224 percent\n",
      "test error  =  2.6400004982948304 percent\n",
      " \n",
      "epoch= 145 \t time= 241.9662652015686 \t loss= 0.011279465377829184 \t error= 0.1050000250339508 percent\n",
      "test error  =  2.7200004696846007 percent\n",
      " \n",
      "epoch= 150 \t time= 250.06635427474976 \t loss= 0.010635119478613585 \t error= 0.09000002145767212 percent\n",
      "test error  =  2.6500004529953003 percent\n",
      " \n",
      "epoch= 155 \t time= 259.1497402191162 \t loss= 0.010036892538319535 \t error= 0.08500002026557922 percent\n",
      "test error  =  2.7000004410743714 percent\n",
      " \n",
      "epoch= 160 \t time= 268.39996910095215 \t loss= 0.009462785473217689 \t error= 0.06166668136914571 percent\n",
      "test error  =  2.6400004625320435 percent\n",
      " \n",
      "epoch= 165 \t time= 276.8077621459961 \t loss= 0.008975151186015258 \t error= 0.05666668017705282 percent\n",
      "test error  =  2.6400004386901856 percent\n",
      " \n",
      "epoch= 170 \t time= 285.1073462963104 \t loss= 0.008479702159357354 \t error= 0.043333343664805096 percent\n",
      "test error  =  2.6200004696846007 percent\n",
      " \n",
      "epoch= 175 \t time= 293.4488911628723 \t loss= 0.008029318393024369 \t error= 0.046666677792867026 percent\n",
      "test error  =  2.6500004529953003 percent\n",
      " \n",
      "epoch= 180 \t time= 301.6921021938324 \t loss= 0.0076536071680175155 \t error= 0.04000000953674317 percent\n",
      "test error  =  2.6500004649162294 percent\n",
      " \n",
      "epoch= 185 \t time= 310.23534417152405 \t loss= 0.007183276201976696 \t error= 0.03666667540868123 percent\n",
      "test error  =  2.7500004887580873 percent\n",
      " \n",
      "epoch= 190 \t time= 318.81055426597595 \t loss= 0.006858512003470726 \t error= 0.026666673024495446 percent\n",
      "test error  =  2.6900004625320437 percent\n",
      " \n",
      "epoch= 195 \t time= 327.21872210502625 \t loss= 0.0065569956226821284 \t error= 0.02833334008852641 percent\n",
      "test error  =  2.6500004649162294 percent\n"
     ]
    }
   ],
   "source": [
    "start = time.time()\n",
    "\n",
    "for epoch in range(200):\n",
    "    \n",
    "    running_loss=0\n",
    "    running_error=0\n",
    "    num_batches=0\n",
    "    \n",
    "    shuffled_indices=torch.randperm(60000)\n",
    " \n",
    "    for count in range(0,60000,bs):\n",
    "        \n",
    "        # forward and backward pass\n",
    "    \n",
    "        optimizer.zero_grad()\n",
    "        \n",
    "        indices=shuffled_indices[count:count+bs]\n",
    "        minibatch_data =  train_data[indices]\n",
    "        minibatch_label= train_label[indices]\n",
    "\n",
    "        inputs = minibatch_data.view(bs,784)\n",
    "\n",
    "        inputs.requires_grad_()\n",
    "\n",
    "        scores=net( inputs ) \n",
    "\n",
    "        loss =  criterion( scores , minibatch_label) \n",
    "        \n",
    "        loss.backward()\n",
    "\n",
    "        optimizer.step()\n",
    "        \n",
    "        \n",
    "        # compute some stats\n",
    "        \n",
    "        running_loss += loss.detach().item()\n",
    "               \n",
    "        error = utils.get_error( scores.detach() , minibatch_label)\n",
    "        running_error += error.item()\n",
    "        \n",
    "        num_batches+=1\n",
    "    \n",
    "    \n",
    "    # once the epoch is finished we divide the \"running quantities\"\n",
    "    # by the number of batches\n",
    "    \n",
    "    total_loss = running_loss/num_batches\n",
    "    total_error = running_error/num_batches\n",
    "    elapsed_time = time.time() - start\n",
    "    \n",
    "    # every 10 epoch we display the stats \n",
    "    # and compute the error rate on the test set  \n",
    "    \n",
    "    if epoch % 5 == 0 : \n",
    "    \n",
    "        print(' ')\n",
    "        \n",
    "        print('epoch=',epoch, '\\t time=', elapsed_time,\n",
    "              '\\t loss=', total_loss , '\\t error=', total_error*100 ,'percent')\n",
    "        \n",
    "        eval_on_test_set()\n",
    "               "
   ]
  },
  {
   "cell_type": "markdown",
   "metadata": {},
   "source": [
    "### Choose image at random from the test set and see how good/bad are the predictions"
   ]
  },
  {
   "cell_type": "code",
   "execution_count": 8,
   "metadata": {},
   "outputs": [
    {
     "data": {
      "image/png": "[encoded data removed]",
      "text/plain": [
       "<Figure size 432x288 with 1 Axes>"
      ]
     },
     "metadata": {},
     "output_type": "display_data"
    },
    {
     "data": {
      "image/png": "[encoded data removed]",
      "text/plain": [
       "<Figure size 640x480 with 1 Axes>"
      ]
     },
     "metadata": {},
     "output_type": "display_data"
    }
   ],
   "source": [
    "# choose a picture at random\n",
    "idx=randint(0, 10000-1)\n",
    "im=test_data[idx]\n",
    "\n",
    "# diplay the picture\n",
    "utils.show(im)\n",
    "\n",
    "# feed it to the net and display the confidence scores\n",
    "scores =  net( im.view(1,784)) \n",
    "probs= torch.softmax(scores, dim=1)\n",
    "utils.show_prob_mnist(probs)"
   ]
  },
  {
   "cell_type": "code",
   "execution_count": null,
   "metadata": {},
   "outputs": [],
   "source": []
  },
  {
   "cell_type": "code",
   "execution_count": null,
   "metadata": {},
   "outputs": [],
   "source": []
  }
 ],
 "metadata": {
  "kernelspec": {
   "display_name": "Python 3 (ipykernel)",
   "language": "python",
   "name": "python3"
  },
  "language_info": {
   "codemirror_mode": {
    "name": "ipython",
    "version": 3
   },
   "file_extension": ".py",
   "mimetype": "text/x-python",
   "name": "python",
   "nbconvert_exporter": "python",
   "pygments_lexer": "ipython3",
   "version": "3.7.10"
  }
 },
 "nbformat": 4,
 "nbformat_minor": 2
}
