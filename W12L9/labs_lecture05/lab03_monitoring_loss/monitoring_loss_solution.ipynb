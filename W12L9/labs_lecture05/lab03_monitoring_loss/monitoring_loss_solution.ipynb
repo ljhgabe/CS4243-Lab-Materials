{
 "cells": [
  {
   "cell_type": "markdown",
   "metadata": {},
   "source": [
    "# Lab 03 : Loss and error rate -- solution"
   ]
  },
  {
   "cell_type": "code",
   "execution_count": 1,
   "metadata": {},
   "outputs": [],
   "source": [
    "# For Google Colaboratory\n",
    "import sys, os\n",
    "if 'google.colab' in sys.modules:\n",
    "    # mount google drive\n",
    "    from google.colab import drive\n",
    "    drive.mount('/content/gdrive')\n",
    "    path_to_file = '/content/gdrive/My Drive/CS4243_codes/codes/labs_lecture05/lab03_monitoring_loss'\n",
    "    print(path_to_file)\n",
    "    # move to Google Drive directory\n",
    "    os.chdir(path_to_file)\n",
    "    !pwd"
   ]
  },
  {
   "cell_type": "code",
   "execution_count": 2,
   "metadata": {},
   "outputs": [],
   "source": [
    "import torch\n",
    "import torch.nn as nn\n",
    "import torch.optim as optim\n",
    "from random import randint\n",
    "import utils"
   ]
  },
  {
   "cell_type": "markdown",
   "metadata": {},
   "source": [
    "### Download the CIFAR dataset -- check the size carefully!"
   ]
  },
  {
   "cell_type": "code",
   "execution_count": 3,
   "metadata": {},
   "outputs": [
    {
     "name": "stdout",
     "output_type": "stream",
     "text": [
      "torch.Size([50000, 3, 32, 32])\n"
     ]
    }
   ],
   "source": [
    "from utils import check_cifar_dataset_exists\n",
    "data_path=check_cifar_dataset_exists()\n",
    "\n",
    "train_data=torch.load(data_path+'cifar/train_data.pt')\n",
    "train_label=torch.load(data_path+'cifar/train_label.pt')\n",
    "test_data=torch.load(data_path+'cifar/test_data.pt')\n",
    "\n",
    "print(train_data.size())"
   ]
  },
  {
   "cell_type": "markdown",
   "metadata": {},
   "source": [
    "### Make a ONE layer net class. "
   ]
  },
  {
   "cell_type": "code",
   "execution_count": 4,
   "metadata": {},
   "outputs": [],
   "source": [
    "class one_layer_net(nn.Module):\n",
    "\n",
    "    def __init__(self, input_size, output_size):\n",
    "        super(one_layer_net , self).__init__()\n",
    "        self.linear_layer = nn.Linear( input_size, output_size , bias=True)\n",
    "        \n",
    "    def forward(self, x):\n",
    "        scores = self.linear_layer(x)\n",
    "        return scores"
   ]
  },
  {
   "cell_type": "markdown",
   "metadata": {},
   "source": [
    "### Build the net. \n",
    "\n",
    "### We are dealing with RGB pictures that are 3 x 32 x 32 \n",
    "\n",
    "### On picture contains a total of 3 x 32 x 32 = 3072 values"
   ]
  },
  {
   "cell_type": "code",
   "execution_count": 5,
   "metadata": {},
   "outputs": [
    {
     "name": "stdout",
     "output_type": "stream",
     "text": [
      "one_layer_net(\n",
      "  (linear_layer): Linear(in_features=3072, out_features=10, bias=True)\n",
      ")\n"
     ]
    }
   ],
   "source": [
    "net=one_layer_net(3072,10)\n",
    "print(net)"
   ]
  },
  {
   "cell_type": "markdown",
   "metadata": {},
   "source": [
    "### Choose the criterion and optimizer. Also choose:\n",
    "\n",
    "### batchsize = 20\n",
    "\n",
    "### learning rate = 0.01"
   ]
  },
  {
   "cell_type": "code",
   "execution_count": 6,
   "metadata": {},
   "outputs": [],
   "source": [
    "criterion = nn.CrossEntropyLoss()\n",
    "\n",
    "optimizer=torch.optim.SGD( net.parameters() , lr=0.01 )\n",
    "\n",
    "bs=20"
   ]
  },
  {
   "cell_type": "markdown",
   "metadata": {},
   "source": [
    "### Do 40 passes through the training set (which contains 50,000 images -- not 60,000 like mnist!)"
   ]
  },
  {
   "cell_type": "code",
   "execution_count": 7,
   "metadata": {
    "scrolled": false
   },
   "outputs": [
    {
     "name": "stdout",
     "output_type": "stream",
     "text": [
      "epoch= 0 \t loss= 1.955830507659912 \t error= 69.43399999856949 percent\n",
      "epoch= 1 \t loss= 1.866407353925705 \t error= 65.42999994516373 percent\n",
      "epoch= 2 \t loss= 1.8360513813972472 \t error= 64.21799991846085 percent\n",
      "epoch= 3 \t loss= 1.8176813843250275 \t error= 63.29799996614456 percent\n",
      "epoch= 4 \t loss= 1.809607318353653 \t error= 63.053999948501584 percent\n",
      "epoch= 5 \t loss= 1.7963973314762116 \t error= 62.6060000038147 percent\n",
      "epoch= 6 \t loss= 1.7900708956003188 \t error= 62.4020000076294 percent\n",
      "epoch= 7 \t loss= 1.7878482614040374 \t error= 61.933999984264375 percent\n",
      "epoch= 8 \t loss= 1.77828304002285 \t error= 61.704000034332275 percent\n",
      "epoch= 9 \t loss= 1.7750867522239686 \t error= 61.536000008583066 percent\n",
      "epoch= 10 \t loss= 1.769017097568512 \t error= 61.213999943733214 percent\n",
      "epoch= 11 \t loss= 1.7664206575393677 \t error= 61.033999979496 percent\n",
      "epoch= 12 \t loss= 1.7611876192092895 \t error= 60.60000005245209 percent\n",
      "epoch= 13 \t loss= 1.7611079428434373 \t error= 60.85599996328354 percent\n",
      "epoch= 14 \t loss= 1.7565744376897812 \t error= 60.66999998092651 percent\n",
      "epoch= 15 \t loss= 1.7563236105203628 \t error= 60.69399997472763 percent\n",
      "epoch= 16 \t loss= 1.7482983993530274 \t error= 60.23999999284744 percent\n",
      "epoch= 17 \t loss= 1.747915578842163 \t error= 60.29399996519089 percent\n",
      "epoch= 18 \t loss= 1.7457588265419006 \t error= 60.15600005626679 percent\n",
      "epoch= 19 \t loss= 1.7425325925588608 \t error= 59.94799998283386 percent\n",
      "epoch= 20 \t loss= 1.74185681784153 \t error= 60.14999995708465 percent\n",
      "epoch= 21 \t loss= 1.7387099892139435 \t error= 60.09799999237061 percent\n",
      "epoch= 22 \t loss= 1.7392222137212754 \t error= 59.756000053882595 percent\n",
      "epoch= 23 \t loss= 1.7401917717218398 \t error= 60.072000041008 percent\n",
      "epoch= 24 \t loss= 1.7368213093280793 \t error= 59.79799997568131 percent\n",
      "epoch= 25 \t loss= 1.7365699262619019 \t error= 59.99400004386902 percent\n",
      "epoch= 26 \t loss= 1.7336837922334671 \t error= 59.77399997472763 percent\n",
      "epoch= 27 \t loss= 1.7305284108161927 \t error= 59.66400000333786 percent\n",
      "epoch= 28 \t loss= 1.7316965371847153 \t error= 59.73400003910064 percent\n",
      "epoch= 29 \t loss= 1.729666076040268 \t error= 59.69199999332429 percent\n",
      "epoch= 30 \t loss= 1.7283262655973435 \t error= 59.582000005245206 percent\n",
      "epoch= 31 \t loss= 1.7287013823986053 \t error= 59.57400001764297 percent\n",
      "epoch= 32 \t loss= 1.7252388507127763 \t error= 59.35600003480911 percent\n",
      "epoch= 33 \t loss= 1.7243907580137252 \t error= 59.38999999046326 percent\n",
      "epoch= 34 \t loss= 1.7232659424543382 \t error= 59.2919999742508 percent\n",
      "epoch= 35 \t loss= 1.72288722884655 \t error= 59.220000011920924 percent\n",
      "epoch= 36 \t loss= 1.7181037709474563 \t error= 59.26599997282028 percent\n",
      "epoch= 37 \t loss= 1.7199329000473023 \t error= 58.99200001478195 percent\n",
      "epoch= 38 \t loss= 1.7164695177316667 \t error= 58.97400003910065 percent\n",
      "epoch= 39 \t loss= 1.7195807087183 \t error= 59.292000014781955 percent\n"
     ]
    }
   ],
   "source": [
    "for epoch in range(40):\n",
    "    \n",
    "    running_loss=0\n",
    "    running_error=0\n",
    "    num_batches=0\n",
    "    \n",
    "    shuffled_indices=torch.randperm(50000)\n",
    " \n",
    "    for count in range(0,50000,bs):\n",
    "    \n",
    "        # Set the gradients to zeros\n",
    "        optimizer.zero_grad()\n",
    "        \n",
    "        # create a minibatch       \n",
    "        indices=shuffled_indices[count:count+bs]\n",
    "        minibatch_data =  train_data[indices]\n",
    "        minibatch_label= train_label[indices]\n",
    "\n",
    "        # reshape the minibatch\n",
    "        inputs = minibatch_data.view(bs,3072)\n",
    "\n",
    "        # tell Pytorch to start tracking all operations that will be done on \"inputs\"\n",
    "        inputs.requires_grad_()\n",
    "\n",
    "        # forward the minibatch through the net \n",
    "        scores=net( inputs ) \n",
    "\n",
    "        # Compute the average of the losses of the data points in the minibatch\n",
    "        loss =  criterion( scores , minibatch_label) \n",
    "        \n",
    "        # backward pass to compute dL/dU, dL/dV and dL/dW   \n",
    "        loss.backward()\n",
    "\n",
    "        # do one step of stochastic gradient descent: U=U-lr(dL/dU), V=V-lr(dL/dU), ...\n",
    "        optimizer.step()\n",
    "        \n",
    "        # START COMPUTING STATS\n",
    "        \n",
    "        # add the loss of this batch to the running loss\n",
    "        running_loss += loss.detach().item()\n",
    "        \n",
    "        # compute the error made on this batch and add it to the running error       \n",
    "        error = utils.get_error( scores.detach() , minibatch_label)\n",
    "        running_error += error.item()\n",
    "        \n",
    "        num_batches+=1\n",
    "    \n",
    "    \n",
    "    # compute stats for the full training set\n",
    "    total_loss = running_loss/num_batches\n",
    "    total_error = running_error/num_batches\n",
    "    \n",
    "    print('epoch=',epoch, '\\t loss=', total_loss , '\\t error=', total_error*100 ,'percent')\n",
    "        \n",
    "    \n",
    "        \n",
    "        "
   ]
  },
  {
   "cell_type": "markdown",
   "metadata": {},
   "source": [
    "### Choose image at random from the test set and see how good/bad are the predictions"
   ]
  },
  {
   "cell_type": "code",
   "execution_count": 8,
   "metadata": {},
   "outputs": [
    {
     "data": {
      "image/png": "[encoded data removed]",
      "text/plain": [
       "<Figure size 432x288 with 1 Axes>"
      ]
     },
     "metadata": {
      "needs_background": "light"
     },
     "output_type": "display_data"
    },
    {
     "data": {
      "image/png": "[encoded data removed]",
      "text/plain": [
       "<Figure size 640x480 with 1 Axes>"
      ]
     },
     "metadata": {},
     "output_type": "display_data"
    }
   ],
   "source": [
    "# choose a picture at random\n",
    "idx=randint(0, 10000-1)\n",
    "im=test_data[idx]\n",
    "\n",
    "# diplay the picture\n",
    "utils.show(im)\n",
    "\n",
    "# feed it to the net and display the confidence scores\n",
    "scores =  net( im.view(1,3072)) \n",
    "probs= torch.softmax(scores, dim=1)\n",
    "utils.show_prob_cifar(probs)"
   ]
  },
  {
   "cell_type": "code",
   "execution_count": null,
   "metadata": {},
   "outputs": [],
   "source": []
  }
 ],
 "metadata": {
  "kernelspec": {
   "display_name": "Python 3",
   "language": "python",
   "name": "python3"
  },
  "language_info": {
   "codemirror_mode": {
    "name": "ipython",
    "version": 3
   },
   "file_extension": ".py",
   "mimetype": "text/x-python",
   "name": "python",
   "nbconvert_exporter": "python",
   "pygments_lexer": "ipython3",
   "version": "3.7.10"
  }
 },
 "nbformat": 4,
 "nbformat_minor": 2
}
