{
 "cells": [
  {
   "cell_type": "markdown",
   "metadata": {},
   "source": [
    "# Lab 03 : Loss and error rate -- demo"
   ]
  },
  {
   "cell_type": "code",
   "execution_count": 1,
   "metadata": {},
   "outputs": [],
   "source": [
    "# For Google Colaboratory\n",
    "import sys, os\n",
    "if 'google.colab' in sys.modules:\n",
    "    # mount google drive\n",
    "    from google.colab import drive\n",
    "    drive.mount('/content/gdrive')\n",
    "    path_to_file = '/content/gdrive/My Drive/CS4243_codes/codes/labs_lecture05/lab03_monitoring_loss'\n",
    "    print(path_to_file)\n",
    "    # move to Google Drive directory\n",
    "    os.chdir(path_to_file)\n",
    "    !pwd"
   ]
  },
  {
   "cell_type": "code",
   "execution_count": 2,
   "metadata": {},
   "outputs": [],
   "source": [
    "import torch\n",
    "import torch.nn as nn\n",
    "import torch.optim as optim\n",
    "from random import randint\n",
    "import utils"
   ]
  },
  {
   "cell_type": "markdown",
   "metadata": {},
   "source": [
    "### Download the data and print the sizes"
   ]
  },
  {
   "cell_type": "code",
   "execution_count": 3,
   "metadata": {},
   "outputs": [],
   "source": [
    "from utils import check_mnist_dataset_exists\n",
    "data_path=check_mnist_dataset_exists()\n",
    "\n",
    "train_data=torch.load(data_path+'mnist/train_data.pt')\n",
    "train_label=torch.load(data_path+'mnist/train_label.pt')\n",
    "test_data=torch.load(data_path+'mnist/test_data.pt')"
   ]
  },
  {
   "cell_type": "markdown",
   "metadata": {},
   "source": [
    "### Make a ONE layer net class. "
   ]
  },
  {
   "cell_type": "code",
   "execution_count": 4,
   "metadata": {},
   "outputs": [],
   "source": [
    "class one_layer_net(nn.Module):\n",
    "\n",
    "    def __init__(self, input_size, output_size):\n",
    "        super(one_layer_net , self).__init__()\n",
    "        self.linear_layer = nn.Linear( input_size, output_size , bias=False)\n",
    "        \n",
    "    def forward(self, x):\n",
    "        scores = self.linear_layer(x)\n",
    "        return scores"
   ]
  },
  {
   "cell_type": "markdown",
   "metadata": {},
   "source": [
    "### Build the net"
   ]
  },
  {
   "cell_type": "code",
   "execution_count": 5,
   "metadata": {},
   "outputs": [
    {
     "name": "stdout",
     "output_type": "stream",
     "text": [
      "one_layer_net(\n",
      "  (linear_layer): Linear(in_features=784, out_features=10, bias=False)\n",
      ")\n"
     ]
    }
   ],
   "source": [
    "net=one_layer_net(784,10)\n",
    "print(net)"
   ]
  },
  {
   "cell_type": "markdown",
   "metadata": {},
   "source": [
    "### Choose the criterion, optimizer, batchsize, learning rate"
   ]
  },
  {
   "cell_type": "code",
   "execution_count": 6,
   "metadata": {},
   "outputs": [],
   "source": [
    "criterion = nn.CrossEntropyLoss()\n",
    "\n",
    "optimizer=torch.optim.SGD( net.parameters() , lr=0.01 )\n",
    "\n",
    "bs=200"
   ]
  },
  {
   "cell_type": "markdown",
   "metadata": {},
   "source": [
    "### Do 30 passes through the training set"
   ]
  },
  {
   "cell_type": "code",
   "execution_count": 7,
   "metadata": {},
   "outputs": [
    {
     "name": "stdout",
     "output_type": "stream",
     "text": [
      "epoch= 0 \t loss= 1.4497143075863521 \t error= 28.151666740576424 percent\n",
      "epoch= 1 \t loss= 0.8504990108807882 \t error= 16.54666656255722 percent\n",
      "epoch= 2 \t loss= 0.6839838814735413 \t error= 14.88999972740809 percent\n",
      "epoch= 3 \t loss= 0.6033843239148458 \t error= 13.92333322763443 percent\n",
      "epoch= 4 \t loss= 0.5545093576113383 \t error= 13.363333384195963 percent\n",
      "epoch= 5 \t loss= 0.5210646479328473 \t error= 12.863333225250246 percent\n",
      "epoch= 6 \t loss= 0.4964698022603989 \t error= 12.49833325544993 percent\n",
      "epoch= 7 \t loss= 0.4774324160814285 \t error= 12.186667064825695 percent\n",
      "epoch= 8 \t loss= 0.46213584661483764 \t error= 11.948333283265432 percent\n",
      "epoch= 9 \t loss= 0.44958535840113956 \t error= 11.685000121593475 percent\n",
      "epoch= 10 \t loss= 0.4389729890227318 \t error= 11.49833353360494 percent\n",
      "epoch= 11 \t loss= 0.42984099497397743 \t error= 11.361666580041248 percent\n",
      "epoch= 12 \t loss= 0.4219281133015951 \t error= 11.173333644866943 percent\n",
      "epoch= 13 \t loss= 0.4149501564105352 \t error= 11.080000201861063 percent\n",
      "epoch= 14 \t loss= 0.40873921404282254 \t error= 10.975000321865082 percent\n",
      "epoch= 15 \t loss= 0.4031688525279363 \t error= 10.853333592414856 percent\n",
      "epoch= 16 \t loss= 0.39811540752649305 \t error= 10.698333342870077 percent\n",
      "epoch= 17 \t loss= 0.3935656188428402 \t error= 10.580000261465708 percent\n",
      "epoch= 18 \t loss= 0.38938631892204284 \t error= 10.543333490689594 percent\n",
      "epoch= 19 \t loss= 0.38551934748888017 \t error= 10.458333651224772 percent\n",
      "epoch= 20 \t loss= 0.3819649288058281 \t error= 10.385000228881836 percent\n",
      "epoch= 21 \t loss= 0.378694545874993 \t error= 10.336666842301687 percent\n",
      "epoch= 22 \t loss= 0.37561581283807755 \t error= 10.26166695356369 percent\n",
      "epoch= 23 \t loss= 0.3727649203936259 \t error= 10.191666781902313 percent\n",
      "epoch= 24 \t loss= 0.3700847583512465 \t error= 10.13833357890447 percent\n",
      "epoch= 25 \t loss= 0.36757175222039223 \t error= 10.076666752497356 percent\n",
      "epoch= 26 \t loss= 0.3651808641850948 \t error= 10.003333290417988 percent\n",
      "epoch= 27 \t loss= 0.36294131527344387 \t error= 9.973333597183228 percent\n",
      "epoch= 28 \t loss= 0.36083183661103246 \t error= 9.951666792233786 percent\n",
      "epoch= 29 \t loss= 0.35881175895531975 \t error= 9.911666850248972 percent\n"
     ]
    }
   ],
   "source": [
    "for epoch in range(30):\n",
    "    \n",
    "    running_loss=0\n",
    "    running_error=0\n",
    "    num_batches=0\n",
    "    \n",
    "    shuffled_indices=torch.randperm(60000)\n",
    " \n",
    "    for count in range(0,60000,bs):\n",
    "    \n",
    "        optimizer.zero_grad()\n",
    "        \n",
    "        indices=shuffled_indices[count:count+bs]\n",
    "        minibatch_data =  train_data[indices]\n",
    "        minibatch_label= train_label[indices]\n",
    "\n",
    "        inputs = minibatch_data.view(bs,784)\n",
    "\n",
    "        inputs.requires_grad_()\n",
    "\n",
    "        scores=net( inputs ) \n",
    "\n",
    "        loss =  criterion( scores , minibatch_label) \n",
    "        \n",
    "        loss.backward()\n",
    "\n",
    "        optimizer.step()\n",
    "        \n",
    "        \n",
    "        # compute and accumulate stats\n",
    "        \n",
    "        running_loss += loss.detach().item()\n",
    "               \n",
    "        error = utils.get_error( scores.detach() , minibatch_label)\n",
    "        running_error += error.item()\n",
    "        \n",
    "        num_batches+=1\n",
    "    \n",
    "    \n",
    "    # compute stats for the full training set\n",
    "    total_loss = running_loss/num_batches\n",
    "    total_error = running_error/num_batches\n",
    "    \n",
    "    print('epoch=',epoch, '\\t loss=', total_loss , '\\t error=', total_error*100 ,'percent')\n",
    "        \n",
    "    \n",
    "        \n",
    "        "
   ]
  },
  {
   "cell_type": "markdown",
   "metadata": {},
   "source": [
    "### Choose image at random from the test set and see how good/bad are the predictions"
   ]
  },
  {
   "cell_type": "code",
   "execution_count": 8,
   "metadata": {},
   "outputs": [
    {
     "data": {
      "image/png": "[encoded data removed]",
      "text/plain": [
       "<Figure size 432x288 with 1 Axes>"
      ]
     },
     "metadata": {
      "needs_background": "light"
     },
     "output_type": "display_data"
    },
    {
     "data": {
      "image/png": "[encoded data removed]",
      "text/plain": [
       "<Figure size 640x480 with 1 Axes>"
      ]
     },
     "metadata": {},
     "output_type": "display_data"
    }
   ],
   "source": [
    "# choose a picture at random\n",
    "idx=randint(0, 10000-1)\n",
    "im=test_data[idx]\n",
    "\n",
    "# diplay the picture\n",
    "utils.show(im)\n",
    "\n",
    "# feed it to the net and display the confidence scores\n",
    "scores =  net( im.view(1,784)) \n",
    "probs= torch.softmax(scores, dim=1)\n",
    "utils.show_prob_mnist(probs)"
   ]
  },
  {
   "cell_type": "code",
   "execution_count": null,
   "metadata": {},
   "outputs": [],
   "source": []
  }
 ],
 "metadata": {
  "kernelspec": {
   "display_name": "Python 3",
   "language": "python",
   "name": "python3"
  },
  "language_info": {
   "codemirror_mode": {
    "name": "ipython",
    "version": 3
   },
   "file_extension": ".py",
   "mimetype": "text/x-python",
   "name": "python",
   "nbconvert_exporter": "python",
   "pygments_lexer": "ipython3",
   "version": "3.7.10"
  }
 },
 "nbformat": 4,
 "nbformat_minor": 2
}
