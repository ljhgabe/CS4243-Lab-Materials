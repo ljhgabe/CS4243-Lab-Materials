{
 "cells": [
  {
   "cell_type": "markdown",
   "metadata": {},
   "source": [
    "# Lab 05 : Final code -- demo"
   ]
  },
  {
   "cell_type": "code",
   "execution_count": 1,
   "metadata": {},
   "outputs": [],
   "source": [
    "# For Google Colaboratory\n",
    "import sys, os\n",
    "if 'google.colab' in sys.modules:\n",
    "    # mount google drive\n",
    "    from google.colab import drive\n",
    "    drive.mount('/content/gdrive')\n",
    "    path_to_file = '/content/gdrive/My Drive/CS4243_codes/codes/labs_lecture05/lab05_final'\n",
    "    print(path_to_file)\n",
    "    # move to Google Drive directory\n",
    "    os.chdir(path_to_file)\n",
    "    !pwd"
   ]
  },
  {
   "cell_type": "code",
   "execution_count": 2,
   "metadata": {},
   "outputs": [],
   "source": [
    "import torch\n",
    "import torch.nn as nn\n",
    "import torch.optim as optim\n",
    "from random import randint\n",
    "import time\n",
    "import utils"
   ]
  },
  {
   "cell_type": "markdown",
   "metadata": {},
   "source": [
    "### Download the data"
   ]
  },
  {
   "cell_type": "code",
   "execution_count": 3,
   "metadata": {},
   "outputs": [],
   "source": [
    "from utils import check_mnist_dataset_exists\n",
    "data_path=check_mnist_dataset_exists()\n",
    "\n",
    "train_data=torch.load(data_path+'mnist/train_data.pt')\n",
    "train_label=torch.load(data_path+'mnist/train_label.pt')\n",
    "test_data=torch.load(data_path+'mnist/test_data.pt')\n",
    "test_label=torch.load(data_path+'mnist/test_label.pt')"
   ]
  },
  {
   "cell_type": "markdown",
   "metadata": {},
   "source": [
    "### Make a one layer net class. "
   ]
  },
  {
   "cell_type": "code",
   "execution_count": 4,
   "metadata": {},
   "outputs": [],
   "source": [
    "class one_layer_net(nn.Module):\n",
    "\n",
    "    def __init__(self, input_size, output_size):\n",
    "        super(one_layer_net , self).__init__()\n",
    "        self.linear_layer = nn.Linear( input_size, output_size , bias=False)\n",
    "        \n",
    "    def forward(self, x):\n",
    "        scores = self.linear_layer(x)\n",
    "        return scores"
   ]
  },
  {
   "cell_type": "markdown",
   "metadata": {},
   "source": [
    "### Build the net"
   ]
  },
  {
   "cell_type": "code",
   "execution_count": 5,
   "metadata": {},
   "outputs": [
    {
     "name": "stdout",
     "output_type": "stream",
     "text": [
      "one_layer_net(\n",
      "  (linear_layer): Linear(in_features=784, out_features=10, bias=False)\n",
      ")\n",
      "There are 7840 (0.01 million) parameters in this neural network\n"
     ]
    }
   ],
   "source": [
    "net=one_layer_net(784,10)\n",
    "\n",
    "print(net)\n",
    "utils.display_num_param(net)"
   ]
  },
  {
   "cell_type": "markdown",
   "metadata": {},
   "source": [
    "### Choose the criterion, batchsize"
   ]
  },
  {
   "cell_type": "code",
   "execution_count": 6,
   "metadata": {},
   "outputs": [],
   "source": [
    "criterion = nn.CrossEntropyLoss()\n",
    "\n",
    "bs=200"
   ]
  },
  {
   "cell_type": "markdown",
   "metadata": {},
   "source": [
    "### Evaluate on test set"
   ]
  },
  {
   "cell_type": "code",
   "execution_count": 7,
   "metadata": {},
   "outputs": [],
   "source": [
    "def eval_on_test_set():\n",
    "\n",
    "    running_error=0\n",
    "    num_batches=0\n",
    "\n",
    "    for i in range(0,10000,bs):\n",
    "\n",
    "        minibatch_data =  test_data[i:i+bs]\n",
    "        minibatch_label= test_label[i:i+bs]\n",
    "\n",
    "        inputs = minibatch_data.view(bs,784)\n",
    "\n",
    "        scores=net( inputs ) \n",
    "\n",
    "        error = utils.get_error( scores , minibatch_label)\n",
    "\n",
    "        running_error += error.item()\n",
    "\n",
    "        num_batches+=1\n",
    "\n",
    "\n",
    "    total_error = running_error/num_batches\n",
    "    print( 'test error  = ', total_error*100 ,'percent')"
   ]
  },
  {
   "cell_type": "markdown",
   "metadata": {},
   "source": [
    "### Training loop"
   ]
  },
  {
   "cell_type": "code",
   "execution_count": 8,
   "metadata": {},
   "outputs": [
    {
     "name": "stdout",
     "output_type": "stream",
     "text": [
      " \n",
      "epoch= 0  time= 0.2355480194091797  loss= 0.8352932957808177  error= 17.744999865690865 percent lr= 0.05\n",
      "test error  =  12.099999904632568 percent\n",
      " \n",
      "epoch= 10  time= 2.4003348350524902  loss= 0.3313382423420747  error= 9.194999893506369 percent lr= 0.05\n",
      "test error  =  8.6899995803833 percent\n",
      " \n",
      "epoch= 20  time= 4.609002113342285  loss= 0.30636197651425995  error= 8.525000035762787 percent lr= 0.03333333333333333\n",
      "test error  =  8.199999690055847 percent\n",
      " \n",
      "epoch= 30  time= 6.814922094345093  loss= 0.2977629705270131  error= 8.293333331743877 percent lr= 0.022222222222222223\n",
      "test error  =  8.069999814033508 percent\n",
      " \n",
      "epoch= 40  time= 8.988411903381348  loss= 0.29355339353283244  error= 8.146666665871937 percent lr= 0.014814814814814815\n",
      "test error  =  8.070000052452087 percent\n",
      " \n",
      "epoch= 50  time= 11.119677066802979  loss= 0.2911221407353878  error= 8.119999786218008 percent lr= 0.009876543209876543\n",
      "test error  =  7.920000076293945 percent\n",
      " \n",
      "epoch= 60  time= 13.320406913757324  loss= 0.28968143949906033  error= 8.069999913374582 percent lr= 0.006584362139917695\n",
      "test error  =  7.960000038146972 percent\n",
      " \n",
      "epoch= 70  time= 15.669626951217651  loss= 0.28875333120425545  error= 8.039999783039093 percent lr= 0.0043895747599451305\n",
      "test error  =  7.949999928474425 percent\n",
      " \n",
      "epoch= 80  time= 18.084879875183105  loss= 0.2881618832051754  error= 8.026666502157848 percent lr= 0.0029263831732967535\n",
      "test error  =  7.919999837875366 percent\n",
      " \n",
      "epoch= 90  time= 20.410968780517578  loss= 0.28777446612715724  error= 8.009999712308248 percent lr= 0.001950922115531169\n",
      "test error  =  7.93999981880188 percent\n",
      " \n",
      "epoch= 100  time= 22.783740997314453  loss= 0.28751936425765356  error= 8.003333071867624 percent lr= 0.001300614743687446\n",
      "test error  =  7.929999828338623 percent\n",
      " \n",
      "epoch= 110  time= 25.091693878173828  loss= 0.28735169673959415  error= 7.986666460831961 percent lr= 0.0008670764957916306\n",
      "test error  =  7.93999981880188 percent\n",
      " \n",
      "epoch= 120  time= 27.303494930267334  loss= 0.2872403255105019  error= 7.98833308617274 percent lr= 0.0005780509971944203\n",
      "test error  =  7.93999981880188 percent\n",
      " \n",
      "epoch= 130  time= 29.398467779159546  loss= 0.2871666966875394  error= 7.989999810854593 percent lr= 0.0003853673314629469\n",
      "test error  =  7.93999981880188 percent\n",
      " \n",
      "epoch= 140  time= 31.608760833740234  loss= 0.2871178506066402  error= 7.988333483537039 percent lr= 0.00025691155430863124\n",
      "test error  =  7.93999981880188 percent\n",
      " \n",
      "epoch= 150  time= 33.76861906051636  loss= 0.2870851356784503  error= 7.988333106040954 percent lr= 0.0001712743695390875\n",
      "test error  =  7.93999981880188 percent\n",
      " \n",
      "epoch= 160  time= 36.019690990448  loss= 0.28706358204285304  error= 7.988333026568095 percent lr= 0.00011418291302605833\n",
      "test error  =  7.93999981880188 percent\n",
      " \n",
      "epoch= 170  time= 38.182589054107666  loss= 0.2870491952697436  error= 7.986666619777679 percent lr= 7.612194201737223e-05\n",
      "test error  =  7.93999981880188 percent\n",
      " \n",
      "epoch= 180  time= 40.27832102775574  loss= 0.28703965683778127  error= 7.98666642109553 percent lr= 5.074796134491482e-05\n",
      "test error  =  7.93999981880188 percent\n",
      " \n",
      "epoch= 190  time= 42.36340093612671  loss= 0.28703340351581574  error= 7.986666560173035 percent lr= 3.3831974229943214e-05\n",
      "test error  =  7.93999981880188 percent\n"
     ]
    }
   ],
   "source": [
    "start = time.time()\n",
    "\n",
    "lr = 0.05 # initial learning rate\n",
    "\n",
    "for epoch in range(200):\n",
    "    \n",
    "    # learning rate strategy : divide the learning rate by 1.5 every 10 epochs\n",
    "    if epoch%10==0 and epoch>10: \n",
    "        lr = lr / 1.5\n",
    "    \n",
    "    # create a new optimizer at the beginning of each epoch: give the current learning rate.   \n",
    "    optimizer=torch.optim.SGD( net.parameters() , lr=lr )\n",
    "        \n",
    "    running_loss=0\n",
    "    running_error=0\n",
    "    num_batches=0\n",
    "    \n",
    "    shuffled_indices=torch.randperm(60000)\n",
    " \n",
    "    for count in range(0,60000,bs):\n",
    "        \n",
    "        # forward and backward pass\n",
    "    \n",
    "        optimizer.zero_grad()\n",
    "        \n",
    "        indices=shuffled_indices[count:count+bs]\n",
    "        minibatch_data =  train_data[indices]\n",
    "        minibatch_label= train_label[indices]\n",
    "\n",
    "        inputs = minibatch_data.view(bs,784)\n",
    "\n",
    "        inputs.requires_grad_()\n",
    "\n",
    "        scores=net( inputs ) \n",
    "\n",
    "        loss =  criterion( scores , minibatch_label) \n",
    "        \n",
    "        loss.backward()\n",
    "\n",
    "        optimizer.step()\n",
    "        \n",
    "        \n",
    "        # compute some stats\n",
    "        \n",
    "        running_loss += loss.detach().item()\n",
    "               \n",
    "        error = utils.get_error( scores.detach() , minibatch_label)\n",
    "        running_error += error.item()\n",
    "        \n",
    "        num_batches+=1\n",
    "    \n",
    "    \n",
    "    # once the epoch is finished we divide the \"running quantities\"\n",
    "    # by the number of batches\n",
    "    \n",
    "    total_loss = running_loss/num_batches\n",
    "    total_error = running_error/num_batches\n",
    "    elapsed_time = time.time() - start\n",
    "    \n",
    "    # every 10 epoch we display the stats \n",
    "    # and compute the error rate on the test set  \n",
    "    \n",
    "    if epoch % 10 == 0 : \n",
    "    \n",
    "        print(' ')\n",
    "        \n",
    "        print('epoch=',epoch, ' time=', elapsed_time,\n",
    "              ' loss=', total_loss , ' error=', total_error*100 ,'percent lr=', lr)\n",
    "        \n",
    "        eval_on_test_set()\n",
    "               "
   ]
  },
  {
   "cell_type": "markdown",
   "metadata": {},
   "source": [
    "### Choose image at random from the test set and see how good/bad are the predictions"
   ]
  },
  {
   "cell_type": "code",
   "execution_count": 9,
   "metadata": {},
   "outputs": [
    {
     "data": {
      "image/png": "[encoded data removed]",
      "text/plain": [
       "<Figure size 432x288 with 1 Axes>"
      ]
     },
     "metadata": {
      "needs_background": "light"
     },
     "output_type": "display_data"
    },
    {
     "data": {
      "image/png": "[encoded data removed]",
      "text/plain": [
       "<Figure size 640x480 with 1 Axes>"
      ]
     },
     "metadata": {},
     "output_type": "display_data"
    }
   ],
   "source": [
    "# choose a picture at random\n",
    "idx=randint(0, 10000-1)\n",
    "im=test_data[idx]\n",
    "\n",
    "# diplay the picture\n",
    "utils.show(im)\n",
    "\n",
    "# feed it to the net and display the confidence scores\n",
    "scores =  net( im.view(1,784)) \n",
    "probs= torch.softmax(scores, dim=1)\n",
    "utils.show_prob_mnist(probs)"
   ]
  },
  {
   "cell_type": "code",
   "execution_count": null,
   "metadata": {},
   "outputs": [],
   "source": []
  }
 ],
 "metadata": {
  "kernelspec": {
   "display_name": "Python 3",
   "language": "python",
   "name": "python3"
  },
  "language_info": {
   "codemirror_mode": {
    "name": "ipython",
    "version": 3
   },
   "file_extension": ".py",
   "mimetype": "text/x-python",
   "name": "python",
   "nbconvert_exporter": "python",
   "pygments_lexer": "ipython3",
   "version": "3.7.10"
  }
 },
 "nbformat": 4,
 "nbformat_minor": 2
}
