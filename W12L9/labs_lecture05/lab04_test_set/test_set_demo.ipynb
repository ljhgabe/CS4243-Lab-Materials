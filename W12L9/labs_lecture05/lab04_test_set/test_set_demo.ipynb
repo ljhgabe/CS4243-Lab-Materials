{
 "cells": [
  {
   "cell_type": "markdown",
   "metadata": {},
   "source": [
    "# Lab 04 : Test set evaluation -- demo"
   ]
  },
  {
   "cell_type": "code",
   "execution_count": 1,
   "metadata": {},
   "outputs": [],
   "source": [
    "# For Google Colaboratory\n",
    "import sys, os\n",
    "if 'google.colab' in sys.modules:\n",
    "    # mount google drive\n",
    "    from google.colab import drive\n",
    "    drive.mount('/content/gdrive')\n",
    "    path_to_file = '/content/gdrive/My Drive/CS4243_codes/codes/labs_lecture05/lab04_test_set'\n",
    "    print(path_to_file)\n",
    "    # move to Google Drive directory\n",
    "    os.chdir(path_to_file)\n",
    "    !pwd"
   ]
  },
  {
   "cell_type": "code",
   "execution_count": 2,
   "metadata": {},
   "outputs": [],
   "source": [
    "import torch\n",
    "import torch.nn as nn\n",
    "import torch.optim as optim\n",
    "from random import randint\n",
    "import utils"
   ]
  },
  {
   "cell_type": "markdown",
   "metadata": {},
   "source": [
    "### Download the data and print the sizes"
   ]
  },
  {
   "cell_type": "code",
   "execution_count": 3,
   "metadata": {},
   "outputs": [],
   "source": [
    "from utils import check_mnist_dataset_exists\n",
    "data_path=check_mnist_dataset_exists()\n",
    "\n",
    "train_data=torch.load(data_path+'mnist/train_data.pt')\n",
    "train_label=torch.load(data_path+'mnist/train_label.pt')\n",
    "test_data=torch.load(data_path+'mnist/test_data.pt')\n",
    "test_label=torch.load(data_path+'mnist/test_label.pt')"
   ]
  },
  {
   "cell_type": "markdown",
   "metadata": {},
   "source": [
    "### Make a ONE layer net class. "
   ]
  },
  {
   "cell_type": "code",
   "execution_count": 4,
   "metadata": {},
   "outputs": [],
   "source": [
    "class one_layer_net(nn.Module):\n",
    "\n",
    "    def __init__(self, input_size, output_size):\n",
    "        super(one_layer_net , self).__init__()\n",
    "        self.linear_layer = nn.Linear( input_size, output_size , bias=False)\n",
    "        \n",
    "    def forward(self, x):\n",
    "        scores = self.linear_layer(x)\n",
    "        return scores"
   ]
  },
  {
   "cell_type": "markdown",
   "metadata": {},
   "source": [
    "### Build the net"
   ]
  },
  {
   "cell_type": "code",
   "execution_count": 5,
   "metadata": {},
   "outputs": [
    {
     "name": "stdout",
     "output_type": "stream",
     "text": [
      "one_layer_net(\n",
      "  (linear_layer): Linear(in_features=784, out_features=10, bias=False)\n",
      ")\n"
     ]
    }
   ],
   "source": [
    "net=one_layer_net(784,10)\n",
    "print(net)"
   ]
  },
  {
   "cell_type": "markdown",
   "metadata": {},
   "source": [
    "### Choose the criterion, optimizer, batchsize, learning rate"
   ]
  },
  {
   "cell_type": "code",
   "execution_count": 6,
   "metadata": {},
   "outputs": [],
   "source": [
    "criterion = nn.CrossEntropyLoss()\n",
    "\n",
    "optimizer=torch.optim.SGD( net.parameters() , lr=0.01 )\n",
    "\n",
    "bs=200"
   ]
  },
  {
   "cell_type": "markdown",
   "metadata": {},
   "source": [
    "### Do 30 passes through the training set"
   ]
  },
  {
   "cell_type": "code",
   "execution_count": 7,
   "metadata": {},
   "outputs": [
    {
     "name": "stdout",
     "output_type": "stream",
     "text": [
      "epoch= 0 \t loss= 1.4437378692626952 \t error= 27.724999944369 percent\n",
      "epoch= 1 \t loss= 0.8495811134576797 \t error= 16.763333439826965 percent\n",
      "epoch= 2 \t loss= 0.684249259630839 \t error= 14.93666648864746 percent\n",
      "epoch= 3 \t loss= 0.6038358103235563 \t error= 14.021666467189789 percent\n",
      "epoch= 4 \t loss= 0.5549377659956615 \t error= 13.358333230018616 percent\n",
      "epoch= 5 \t loss= 0.5214912140369415 \t error= 12.855000038941702 percent\n",
      "epoch= 6 \t loss= 0.496866315305233 \t error= 12.488333344459534 percent\n",
      "epoch= 7 \t loss= 0.4778200144569079 \t error= 12.143333276112875 percent\n",
      "epoch= 8 \t loss= 0.462452745338281 \t error= 11.916666686534882 percent\n",
      "epoch= 9 \t loss= 0.44988458315531415 \t error= 11.7133336464564 percent\n",
      "epoch= 10 \t loss= 0.43926046838363014 \t error= 11.468333443005879 percent\n",
      "epoch= 11 \t loss= 0.4301446111996969 \t error= 11.330000181992848 percent\n",
      "epoch= 12 \t loss= 0.42219560166200004 \t error= 11.208333532015482 percent\n",
      "epoch= 13 \t loss= 0.4152207482854525 \t error= 11.053333640098572 percent\n",
      "epoch= 14 \t loss= 0.4090089357892672 \t error= 10.96833344300588 percent\n",
      "epoch= 15 \t loss= 0.40343874037265776 \t error= 10.808333476384481 percent\n",
      "epoch= 16 \t loss= 0.39840445985396705 \t error= 10.726666788260141 percent\n",
      "epoch= 17 \t loss= 0.3938293455044429 \t error= 10.618333538373312 percent\n",
      "epoch= 18 \t loss= 0.38965175608793895 \t error= 10.551666975021362 percent\n",
      "epoch= 19 \t loss= 0.38581369668245313 \t error= 10.45000014702479 percent\n",
      "epoch= 20 \t loss= 0.3822577769557635 \t error= 10.398333688577017 percent\n",
      "epoch= 21 \t loss= 0.3789850358168284 \t error= 10.286666850248972 percent\n",
      "epoch= 22 \t loss= 0.37589806601405146 \t error= 10.228333612283071 percent\n",
      "epoch= 23 \t loss= 0.3730201779305935 \t error= 10.166666865348816 percent\n",
      "epoch= 24 \t loss= 0.3703724993268649 \t error= 10.111666937669119 percent\n",
      "epoch= 25 \t loss= 0.36784836699565254 \t error= 10.033333341280619 percent\n",
      "epoch= 26 \t loss= 0.3654692569375038 \t error= 10.000000158945719 percent\n",
      "epoch= 27 \t loss= 0.36324590335289636 \t error= 9.961666961510977 percent\n",
      "epoch= 28 \t loss= 0.361117193599542 \t error= 9.931666990121206 percent\n",
      "epoch= 29 \t loss= 0.3591053718328476 \t error= 9.853333353996277 percent\n"
     ]
    }
   ],
   "source": [
    "for epoch in range(30):\n",
    "    \n",
    "    running_loss=0\n",
    "    running_error=0\n",
    "    num_batches=0\n",
    "    \n",
    "    shuffled_indices=torch.randperm(60000)\n",
    " \n",
    "    for count in range(0,60000,bs):\n",
    "    \n",
    "        optimizer.zero_grad()\n",
    "        \n",
    "        indices=shuffled_indices[count:count+bs]\n",
    "        minibatch_data =  train_data[indices]\n",
    "        minibatch_label= train_label[indices]\n",
    "\n",
    "        inputs = minibatch_data.view(bs,784)\n",
    "\n",
    "        inputs.requires_grad_()\n",
    "\n",
    "        scores=net( inputs ) \n",
    "\n",
    "        loss =  criterion( scores , minibatch_label) \n",
    "        \n",
    "        loss.backward()\n",
    "\n",
    "        optimizer.step()\n",
    "        \n",
    "        \n",
    "        # compute and accumulate stats\n",
    "        \n",
    "        running_loss += loss.detach().item()\n",
    "               \n",
    "        error = utils.get_error( scores.detach() , minibatch_label)\n",
    "        running_error += error.item()\n",
    "        \n",
    "        num_batches+=1\n",
    "    \n",
    "    \n",
    "    # compute stats for the full training set\n",
    "    total_loss = running_loss/num_batches\n",
    "    total_error = running_error/num_batches\n",
    "    \n",
    "    print('epoch=',epoch, '\\t loss=', total_loss , '\\t error=', total_error*100 ,'percent')\n",
    "        \n",
    "    \n",
    "        \n",
    "        "
   ]
  },
  {
   "cell_type": "markdown",
   "metadata": {},
   "source": [
    "### Now that the network is trained and do 10% of error on the training set, we are going to see how well it is doing on the test set..."
   ]
  },
  {
   "cell_type": "code",
   "execution_count": 8,
   "metadata": {},
   "outputs": [
    {
     "name": "stdout",
     "output_type": "stream",
     "text": [
      "error rate on test set = 9.170000195503235 percent\n"
     ]
    }
   ],
   "source": [
    "running_error=0\n",
    "num_batches=0\n",
    "\n",
    "\n",
    "for i in range(0,10000,bs):\n",
    "\n",
    "    # extract the minibatch\n",
    "    minibatch_data =  test_data[i:i+bs]\n",
    "    minibatch_label= test_label[i:i+bs]\n",
    "\n",
    "    # reshape the minibatch\n",
    "    inputs = minibatch_data.view(bs,784)\n",
    "\n",
    "    # feed it to the network\n",
    "    scores=net( inputs ) \n",
    "\n",
    "    # compute the error made on this batch\n",
    "    error = utils.get_error( scores , minibatch_label)\n",
    "    \n",
    "    # add it to the running error\n",
    "    running_error += error.item()\n",
    "\n",
    "    num_batches+=1\n",
    "\n",
    "\n",
    "    \n",
    "# compute error rate on the full test set\n",
    "total_error = running_error/num_batches\n",
    "\n",
    "print( 'error rate on test set =', total_error*100 ,'percent')\n",
    "\n",
    "      "
   ]
  },
  {
   "cell_type": "markdown",
   "metadata": {},
   "source": [
    "### Choose image at random from the test set and see how good/bad are the predictions"
   ]
  },
  {
   "cell_type": "code",
   "execution_count": 9,
   "metadata": {},
   "outputs": [
    {
     "data": {
      "image/png": "[encoded data removed]",
      "text/plain": [
       "<Figure size 432x288 with 1 Axes>"
      ]
     },
     "metadata": {
      "needs_background": "light"
     },
     "output_type": "display_data"
    },
    {
     "data": {
      "image/png": "[encoded data removed]",
      "text/plain": [
       "<Figure size 640x480 with 1 Axes>"
      ]
     },
     "metadata": {},
     "output_type": "display_data"
    }
   ],
   "source": [
    "# choose a picture at random\n",
    "idx=randint(0, 10000-1)\n",
    "im=test_data[idx]\n",
    "\n",
    "# diplay the picture\n",
    "utils.show(im)\n",
    "\n",
    "# feed it to the net and display the confidence scores\n",
    "scores =  net( im.view(1,784)) \n",
    "probs= torch.softmax(scores, dim=1)\n",
    "utils.show_prob_mnist(probs)"
   ]
  },
  {
   "cell_type": "code",
   "execution_count": null,
   "metadata": {},
   "outputs": [],
   "source": []
  }
 ],
 "metadata": {
  "kernelspec": {
   "display_name": "Python 3",
   "language": "python",
   "name": "python3"
  },
  "language_info": {
   "codemirror_mode": {
    "name": "ipython",
    "version": 3
   },
   "file_extension": ".py",
   "mimetype": "text/x-python",
   "name": "python",
   "nbconvert_exporter": "python",
   "pygments_lexer": "ipython3",
   "version": "3.7.10"
  }
 },
 "nbformat": 4,
 "nbformat_minor": 2
}
