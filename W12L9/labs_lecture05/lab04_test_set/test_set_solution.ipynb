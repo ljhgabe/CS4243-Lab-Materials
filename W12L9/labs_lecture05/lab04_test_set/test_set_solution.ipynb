{
 "cells": [
  {
   "cell_type": "markdown",
   "metadata": {},
   "source": [
    "# Lab 04 : Test set evaluation -- solution"
   ]
  },
  {
   "cell_type": "code",
   "execution_count": 1,
   "metadata": {},
   "outputs": [],
   "source": [
    "# For Google Colaboratory\n",
    "import sys, os\n",
    "if 'google.colab' in sys.modules:\n",
    "    # mount google drive\n",
    "    from google.colab import drive\n",
    "    drive.mount('/content/gdrive')\n",
    "    path_to_file = '/content/gdrive/My Drive/CS4243_codes/codes/labs_lecture05/lab04_test_set'\n",
    "    print(path_to_file)\n",
    "    # move to Google Drive directory\n",
    "    os.chdir(path_to_file)\n",
    "    !pwd"
   ]
  },
  {
   "cell_type": "code",
   "execution_count": 2,
   "metadata": {},
   "outputs": [],
   "source": [
    "import torch\n",
    "import torch.nn as nn\n",
    "import torch.optim as optim\n",
    "from random import randint\n",
    "import utils"
   ]
  },
  {
   "cell_type": "markdown",
   "metadata": {},
   "source": [
    "### Download the CIFAR dataset -- check the size carefully!"
   ]
  },
  {
   "cell_type": "code",
   "execution_count": 3,
   "metadata": {},
   "outputs": [
    {
     "name": "stdout",
     "output_type": "stream",
     "text": [
      "torch.Size([50000, 3, 32, 32])\n"
     ]
    }
   ],
   "source": [
    "from utils import check_cifar_dataset_exists\n",
    "data_path=check_cifar_dataset_exists()\n",
    "\n",
    "train_data=torch.load(data_path+'cifar/train_data.pt')\n",
    "train_label=torch.load(data_path+'cifar/train_label.pt')\n",
    "test_data=torch.load(data_path+'cifar/test_data.pt')\n",
    "test_label=torch.load(data_path+'cifar/test_label.pt')\n",
    "\n",
    "print(train_data.size())"
   ]
  },
  {
   "cell_type": "markdown",
   "metadata": {},
   "source": [
    "### Make a ONE layer net class. "
   ]
  },
  {
   "cell_type": "code",
   "execution_count": 4,
   "metadata": {},
   "outputs": [],
   "source": [
    "class one_layer_net(nn.Module):\n",
    "\n",
    "    def __init__(self, input_size, output_size):\n",
    "        super(one_layer_net , self).__init__()\n",
    "        self.linear_layer = nn.Linear( input_size, output_size , bias=True)\n",
    "        \n",
    "    def forward(self, x):\n",
    "        scores = self.linear_layer(x)\n",
    "        return scores"
   ]
  },
  {
   "cell_type": "markdown",
   "metadata": {},
   "source": [
    "### Build the net. "
   ]
  },
  {
   "cell_type": "code",
   "execution_count": 5,
   "metadata": {},
   "outputs": [
    {
     "name": "stdout",
     "output_type": "stream",
     "text": [
      "one_layer_net(\n",
      "  (linear_layer): Linear(in_features=3072, out_features=10, bias=True)\n",
      ")\n"
     ]
    }
   ],
   "source": [
    "net=one_layer_net(3072,10)\n",
    "print(net)"
   ]
  },
  {
   "cell_type": "markdown",
   "metadata": {},
   "source": [
    "### Choose the criterion and optimizer. Also choose:\n"
   ]
  },
  {
   "cell_type": "code",
   "execution_count": 6,
   "metadata": {},
   "outputs": [],
   "source": [
    "criterion = nn.CrossEntropyLoss()\n",
    "optimizer=torch.optim.SGD( net.parameters() , lr=0.01 )\n",
    "bs=20"
   ]
  },
  {
   "cell_type": "markdown",
   "metadata": {},
   "source": [
    "### Do 50 passes through the training set."
   ]
  },
  {
   "cell_type": "code",
   "execution_count": 7,
   "metadata": {},
   "outputs": [
    {
     "name": "stdout",
     "output_type": "stream",
     "text": [
      "epoch= 0 \t loss= 1.9549224106788636 \t error= 69.31599998950958 percent\n",
      "epoch= 1 \t loss= 1.8639598767280579 \t error= 65.36199995040893 percent\n",
      "epoch= 2 \t loss= 1.8356956740379333 \t error= 64.13199996948242 percent\n",
      "epoch= 3 \t loss= 1.8217002121925354 \t error= 63.51999991416931 percent\n",
      "epoch= 4 \t loss= 1.8075923413276673 \t error= 62.95800004243851 percent\n",
      "epoch= 5 \t loss= 1.7981540479183198 \t error= 62.56599992752076 percent\n",
      "epoch= 6 \t loss= 1.79206571559906 \t error= 62.07000000715256 percent\n",
      "epoch= 7 \t loss= 1.7838977267980576 \t error= 61.488000025749216 percent\n",
      "epoch= 8 \t loss= 1.7793799602031708 \t error= 61.61199998140335 percent\n",
      "epoch= 9 \t loss= 1.7707911355495454 \t error= 61.15400000572204 percent\n",
      "epoch= 10 \t loss= 1.769169853591919 \t error= 61.22199994802475 percent\n",
      "epoch= 11 \t loss= 1.766360975933075 \t error= 61.28000002145767 percent\n",
      "epoch= 12 \t loss= 1.7652103310108185 \t error= 60.86599995851517 percent\n",
      "epoch= 13 \t loss= 1.761081732749939 \t error= 60.79200000286102 percent\n",
      "epoch= 14 \t loss= 1.7559693137645722 \t error= 60.6599999833107 percent\n",
      "epoch= 15 \t loss= 1.7494912461280823 \t error= 60.4999999833107 percent\n",
      "epoch= 16 \t loss= 1.7504525859594344 \t error= 60.571999988555916 percent\n",
      "epoch= 17 \t loss= 1.7465287668228149 \t error= 60.20399998426438 percent\n",
      "epoch= 18 \t loss= 1.744565385055542 \t error= 59.81400000572204 percent\n",
      "epoch= 19 \t loss= 1.7472232376813888 \t error= 60.39600001573563 percent\n",
      "epoch= 20 \t loss= 1.7442456007242202 \t error= 60.3600000166893 percent\n",
      "epoch= 21 \t loss= 1.7430076486587525 \t error= 60.08400000095367 percent\n",
      "epoch= 22 \t loss= 1.7395387674808502 \t error= 59.72600007057189 percent\n",
      "epoch= 23 \t loss= 1.738652640247345 \t error= 59.984000079631805 percent\n",
      "epoch= 24 \t loss= 1.7383849205493926 \t error= 59.91000007629395 percent\n",
      "epoch= 25 \t loss= 1.7329957750797271 \t error= 59.433999974727634 percent\n",
      "epoch= 26 \t loss= 1.7357148799419404 \t error= 59.860000050067896 percent\n",
      "epoch= 27 \t loss= 1.7319401033878326 \t error= 59.71200001239777 percent\n",
      "epoch= 28 \t loss= 1.7299998615980148 \t error= 59.51600004196167 percent\n",
      "epoch= 29 \t loss= 1.7268965446949005 \t error= 59.36800003290177 percent\n",
      "epoch= 30 \t loss= 1.7275520608425141 \t error= 59.3700000333786 percent\n",
      "epoch= 31 \t loss= 1.7255355750083923 \t error= 59.44199997186661 percent\n",
      "epoch= 32 \t loss= 1.7275550899982453 \t error= 59.55599994659424 percent\n",
      "epoch= 33 \t loss= 1.7225947230815888 \t error= 59.26999998569489 percent\n",
      "epoch= 34 \t loss= 1.723977826166153 \t error= 59.24599999189377 percent\n",
      "epoch= 35 \t loss= 1.7240345921039582 \t error= 59.142000031471255 percent\n",
      "epoch= 36 \t loss= 1.721353572535515 \t error= 59.392000048160554 percent\n",
      "epoch= 37 \t loss= 1.71638859167099 \t error= 58.883999965190895 percent\n",
      "epoch= 38 \t loss= 1.7188804458141327 \t error= 59.151999979019166 percent\n",
      "epoch= 39 \t loss= 1.7225302676916123 \t error= 59.21599999427796 percent\n",
      "epoch= 40 \t loss= 1.7212525341272353 \t error= 59.27799998998642 percent\n",
      "epoch= 41 \t loss= 1.7180192479610443 \t error= 58.78800000667572 percent\n",
      "epoch= 42 \t loss= 1.7168902228832246 \t error= 58.96800003290177 percent\n",
      "epoch= 43 \t loss= 1.711348594379425 \t error= 58.84599997282029 percent\n",
      "epoch= 44 \t loss= 1.7126248499631882 \t error= 58.79599998950958 percent\n",
      "epoch= 45 \t loss= 1.7131322107553482 \t error= 59.05400005817414 percent\n",
      "epoch= 46 \t loss= 1.7151060945987702 \t error= 59.06400001049042 percent\n",
      "epoch= 47 \t loss= 1.7118881749153136 \t error= 58.92200003385544 percent\n",
      "epoch= 48 \t loss= 1.7120644649744035 \t error= 58.65800001621246 percent\n",
      "epoch= 49 \t loss= 1.7089468724012375 \t error= 58.67599999666214 percent\n"
     ]
    }
   ],
   "source": [
    "for epoch in range(50):\n",
    "    \n",
    "    running_loss=0\n",
    "    running_error=0\n",
    "    num_batches=0\n",
    "    \n",
    "    shuffled_indices=torch.randperm(50000)\n",
    " \n",
    "    for count in range(0,50000,bs):\n",
    "    \n",
    "        # Set the gradients to zeros\n",
    "        optimizer.zero_grad()\n",
    "        \n",
    "        # create a minibatch       \n",
    "        indices=shuffled_indices[count:count+bs]\n",
    "        minibatch_data =  train_data[indices]\n",
    "        minibatch_label= train_label[indices]\n",
    "\n",
    "        # reshape the minibatch\n",
    "        inputs = minibatch_data.view(bs,3072)\n",
    "\n",
    "        # tell Pytorch to start tracking all operations that will be done on \"inputs\"\n",
    "        inputs.requires_grad_()\n",
    "\n",
    "        # forward the minibatch through the net \n",
    "        scores=net( inputs ) \n",
    "\n",
    "        # Compute the average of the losses of the data points in the minibatch\n",
    "        loss =  criterion( scores , minibatch_label) \n",
    "        \n",
    "        # backward pass to compute dL/dU, dL/dV and dL/dW   \n",
    "        loss.backward()\n",
    "\n",
    "        # do one step of stochastic gradient descent: U=U-lr(dL/dU), V=V-lr(dL/dU), ...\n",
    "        optimizer.step()\n",
    "        \n",
    "        # START COMPUTING STATS\n",
    "        \n",
    "        # add the loss of this batch to the running loss\n",
    "        running_loss += loss.detach().item()\n",
    "        \n",
    "        # compute the error made on this batch and add it to the running error       \n",
    "        error = utils.get_error( scores.detach() , minibatch_label)\n",
    "        running_error += error.item()\n",
    "        \n",
    "        num_batches+=1\n",
    "    \n",
    "    \n",
    "    # compute stats for the full training set\n",
    "    total_loss = running_loss/num_batches\n",
    "    total_error = running_error/num_batches\n",
    "    \n",
    "    print('epoch=',epoch, '\\t loss=', total_loss , '\\t error=', total_error*100 ,'percent')\n",
    "        \n",
    "    \n",
    "        \n",
    "        "
   ]
  },
  {
   "cell_type": "markdown",
   "metadata": {},
   "source": [
    "# You only have to complete this cell"
   ]
  },
  {
   "cell_type": "markdown",
   "metadata": {},
   "source": [
    "### So we are doing around 59% error on the training set, how much are we doing on test set?"
   ]
  },
  {
   "cell_type": "code",
   "execution_count": 8,
   "metadata": {},
   "outputs": [
    {
     "name": "stdout",
     "output_type": "stream",
     "text": [
      "error rate on test set = 60.620000052452085 percent\n"
     ]
    }
   ],
   "source": [
    "running_error=0\n",
    "num_batches=0\n",
    "\n",
    "\n",
    "for i in range(0,10000,bs):\n",
    "\n",
    "    # extract the minibatch\n",
    "    minibatch_data =  test_data[i:i+bs]\n",
    "    minibatch_label= test_label[i:i+bs]\n",
    "\n",
    "    # reshape the minibatch\n",
    "    inputs = minibatch_data.view(bs,3072)\n",
    "\n",
    "    # feed it to the network\n",
    "    scores=net( inputs ) \n",
    "\n",
    "    # compute the error made on this batch\n",
    "    error = utils.get_error( scores , minibatch_label)\n",
    "    \n",
    "    # add it to the running error\n",
    "    running_error += error.item()\n",
    "\n",
    "    num_batches+=1\n",
    "\n",
    "\n",
    "# compute error rate on the full test set\n",
    "total_error = running_error/num_batches\n",
    "\n",
    "print( 'error rate on test set =', total_error*100 ,'percent')"
   ]
  },
  {
   "cell_type": "markdown",
   "metadata": {},
   "source": [
    "### Choose image at random from the test set and see how good/bad are the predictions"
   ]
  },
  {
   "cell_type": "code",
   "execution_count": 9,
   "metadata": {},
   "outputs": [
    {
     "data": {
      "image/png": "[encoded data removed]",
      "text/plain": [
       "<Figure size 432x288 with 1 Axes>"
      ]
     },
     "metadata": {
      "needs_background": "light"
     },
     "output_type": "display_data"
    },
    {
     "data": {
      "image/png": "[encoded data removed]",
      "text/plain": [
       "<Figure size 640x480 with 1 Axes>"
      ]
     },
     "metadata": {},
     "output_type": "display_data"
    }
   ],
   "source": [
    "# choose a picture at random\n",
    "idx=randint(0, 10000-1)\n",
    "im=test_data[idx]\n",
    "\n",
    "# diplay the picture\n",
    "utils.show(im)\n",
    "\n",
    "# feed it to the net and display the confidence scores\n",
    "scores =  net( im.view(1,3072)) \n",
    "probs= torch.softmax(scores, dim=1)\n",
    "utils.show_prob_cifar(probs)"
   ]
  },
  {
   "cell_type": "code",
   "execution_count": null,
   "metadata": {},
   "outputs": [],
   "source": []
  }
 ],
 "metadata": {
  "kernelspec": {
   "display_name": "Python 3",
   "language": "python",
   "name": "python3"
  },
  "language_info": {
   "codemirror_mode": {
    "name": "ipython",
    "version": 3
   },
   "file_extension": ".py",
   "mimetype": "text/x-python",
   "name": "python",
   "nbconvert_exporter": "python",
   "pygments_lexer": "ipython3",
   "version": "3.7.10"
  }
 },
 "nbformat": 4,
 "nbformat_minor": 2
}
